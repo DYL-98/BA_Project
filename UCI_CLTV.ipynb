{
 "cells": [
  {
   "cell_type": "markdown",
   "metadata": {},
   "source": [
    "### Loading Data and Packages"
   ]
  },
  {
   "cell_type": "code",
   "execution_count": 269,
   "metadata": {},
   "outputs": [],
   "source": [
    "#Import necessary libraries\n",
    "import pandas as pd\n",
    "import matplotlib as plt\n",
    "import numpy as np\n",
    "import sqlite3\n",
    "import datetime\n",
    "import matplotlib.pyplot as pyplot\n",
    "from lifetimes import BetaGeoFitter\n",
    "from lifetimes.utils import calibration_and_holdout_data\n",
    "\n",
    "from lifetimes.plotting import plot_frequency_recency_matrix\n",
    "from lifetimes.plotting import plot_probability_alive_matrix\n",
    "from lifetimes.plotting import plot_period_transactions\n",
    "from lifetimes.plotting import plot_calibration_purchases_vs_holdout_purchases\n",
    "from lifetimes.plotting import plot_history_alive\n",
    "from lifetimes import GammaGammaFitter\n",
    "\n",
    "import seaborn as sns"
   ]
  },
  {
   "cell_type": "code",
   "execution_count": 2,
   "metadata": {},
   "outputs": [
    {
     "data": {
      "text/html": [
       "<div>\n",
       "<style scoped>\n",
       "    .dataframe tbody tr th:only-of-type {\n",
       "        vertical-align: middle;\n",
       "    }\n",
       "\n",
       "    .dataframe tbody tr th {\n",
       "        vertical-align: top;\n",
       "    }\n",
       "\n",
       "    .dataframe thead th {\n",
       "        text-align: right;\n",
       "    }\n",
       "</style>\n",
       "<table border=\"1\" class=\"dataframe\">\n",
       "  <thead>\n",
       "    <tr style=\"text-align: right;\">\n",
       "      <th></th>\n",
       "      <th>InvoiceNo</th>\n",
       "      <th>StockCode</th>\n",
       "      <th>Description</th>\n",
       "      <th>Quantity</th>\n",
       "      <th>InvoiceDate</th>\n",
       "      <th>UnitPrice</th>\n",
       "      <th>CustomerID</th>\n",
       "      <th>Country</th>\n",
       "    </tr>\n",
       "  </thead>\n",
       "  <tbody>\n",
       "    <tr>\n",
       "      <th>0</th>\n",
       "      <td>536365</td>\n",
       "      <td>85123A</td>\n",
       "      <td>WHITE HANGING HEART T-LIGHT HOLDER</td>\n",
       "      <td>6</td>\n",
       "      <td>12/1/10 8:26</td>\n",
       "      <td>2.55</td>\n",
       "      <td>17850.0</td>\n",
       "      <td>United Kingdom</td>\n",
       "    </tr>\n",
       "    <tr>\n",
       "      <th>1</th>\n",
       "      <td>536365</td>\n",
       "      <td>71053</td>\n",
       "      <td>WHITE METAL LANTERN</td>\n",
       "      <td>6</td>\n",
       "      <td>12/1/10 8:26</td>\n",
       "      <td>3.39</td>\n",
       "      <td>17850.0</td>\n",
       "      <td>United Kingdom</td>\n",
       "    </tr>\n",
       "    <tr>\n",
       "      <th>2</th>\n",
       "      <td>536365</td>\n",
       "      <td>84406B</td>\n",
       "      <td>CREAM CUPID HEARTS COAT HANGER</td>\n",
       "      <td>8</td>\n",
       "      <td>12/1/10 8:26</td>\n",
       "      <td>2.75</td>\n",
       "      <td>17850.0</td>\n",
       "      <td>United Kingdom</td>\n",
       "    </tr>\n",
       "    <tr>\n",
       "      <th>3</th>\n",
       "      <td>536365</td>\n",
       "      <td>84029G</td>\n",
       "      <td>KNITTED UNION FLAG HOT WATER BOTTLE</td>\n",
       "      <td>6</td>\n",
       "      <td>12/1/10 8:26</td>\n",
       "      <td>3.39</td>\n",
       "      <td>17850.0</td>\n",
       "      <td>United Kingdom</td>\n",
       "    </tr>\n",
       "    <tr>\n",
       "      <th>4</th>\n",
       "      <td>536365</td>\n",
       "      <td>84029E</td>\n",
       "      <td>RED WOOLLY HOTTIE WHITE HEART.</td>\n",
       "      <td>6</td>\n",
       "      <td>12/1/10 8:26</td>\n",
       "      <td>3.39</td>\n",
       "      <td>17850.0</td>\n",
       "      <td>United Kingdom</td>\n",
       "    </tr>\n",
       "  </tbody>\n",
       "</table>\n",
       "</div>"
      ],
      "text/plain": [
       "  InvoiceNo StockCode                          Description  Quantity  \\\n",
       "0    536365    85123A   WHITE HANGING HEART T-LIGHT HOLDER         6   \n",
       "1    536365     71053                  WHITE METAL LANTERN         6   \n",
       "2    536365    84406B       CREAM CUPID HEARTS COAT HANGER         8   \n",
       "3    536365    84029G  KNITTED UNION FLAG HOT WATER BOTTLE         6   \n",
       "4    536365    84029E       RED WOOLLY HOTTIE WHITE HEART.         6   \n",
       "\n",
       "    InvoiceDate  UnitPrice  CustomerID         Country  \n",
       "0  12/1/10 8:26       2.55     17850.0  United Kingdom  \n",
       "1  12/1/10 8:26       3.39     17850.0  United Kingdom  \n",
       "2  12/1/10 8:26       2.75     17850.0  United Kingdom  \n",
       "3  12/1/10 8:26       3.39     17850.0  United Kingdom  \n",
       "4  12/1/10 8:26       3.39     17850.0  United Kingdom  "
      ]
     },
     "execution_count": 2,
     "metadata": {},
     "output_type": "execute_result"
    }
   ],
   "source": [
    "#Import Data\n",
    "tx_data=pd.read_csv(\"UCI_online/data.csv\")\n",
    "tx_data.head()"
   ]
  },
  {
   "cell_type": "code",
   "execution_count": 3,
   "metadata": {},
   "outputs": [
    {
     "data": {
      "text/plain": [
       "<sqlite3.Cursor at 0x119b35490>"
      ]
     },
     "execution_count": 3,
     "metadata": {},
     "output_type": "execute_result"
    }
   ],
   "source": [
    "# Establish connection with internal db\n",
    "con = sqlite3.connect('UCI.db')\n",
    "cursor = con.cursor()\n",
    "# Drop tables that already exist by running the following commands\n",
    "cursor.executescript(\"DROP TABLE IF EXISTS transactions\")"
   ]
  },
  {
   "cell_type": "code",
   "execution_count": 4,
   "metadata": {},
   "outputs": [],
   "source": [
    "# import data to db\n",
    "tx_data.to_sql('transactions', con, if_exists=\"replace\")"
   ]
  },
  {
   "cell_type": "code",
   "execution_count": 5,
   "metadata": {},
   "outputs": [],
   "source": [
    "# verify that all data are loaded to the database\n",
    "# transactions = pd.read_sql('SELECT * FROM transactions', con)\n",
    "# transactions.head(n=10)"
   ]
  },
  {
   "cell_type": "markdown",
   "metadata": {},
   "source": [
    "### Data Cleaning and Exploratory Data Analysis "
   ]
  },
  {
   "cell_type": "markdown",
   "metadata": {},
   "source": [
    "Some basic analysis from the transaction dataset."
   ]
  },
  {
   "cell_type": "code",
   "execution_count": 5,
   "metadata": {},
   "outputs": [
    {
     "data": {
      "text/plain": [
       "InvoiceNo      25900\n",
       "StockCode       4070\n",
       "Description     4223\n",
       "Quantity         722\n",
       "InvoiceDate    23260\n",
       "UnitPrice       1630\n",
       "CustomerID      4372\n",
       "Country           38\n",
       "dtype: int64"
      ]
     },
     "execution_count": 5,
     "metadata": {},
     "output_type": "execute_result"
    }
   ],
   "source": [
    "# Number of unique for each column\n",
    "tx_data.nunique(axis=0)"
   ]
  },
  {
   "cell_type": "markdown",
   "metadata": {},
   "source": [
    "#### We want to look at the trend of number of transactions and the total amount in value over all dates."
   ]
  },
  {
   "cell_type": "code",
   "execution_count": 6,
   "metadata": {},
   "outputs": [],
   "source": [
    "# Make a copy of the original dataset.\n",
    "tx_keep_date = tx_data.copy()\n",
    "    \n",
    "# Extract date from datetime\n",
    "tx_keep_date['InvoiceDate'] = pd.to_datetime(tx_keep_date['InvoiceDate'], format='%m/%d/%y %H:%M').dt.date\n",
    "\n",
    "# days from first date\n",
    "tx_keep_date['days_from_first'] = (tx_keep_date['InvoiceDate'] - tx_keep_date['InvoiceDate'].min()).dt.days\n",
    "\n",
    "# Into database\n",
    "tx_keep_date.to_sql(\"tx_keep_date\", con, if_exists=\"replace\")"
   ]
  },
  {
   "cell_type": "code",
   "execution_count": 7,
   "metadata": {},
   "outputs": [],
   "source": [
    "sql1 = \"\"\"\n",
    "SELECT days_from_first, SUM(Quantity*UnitPrice) AS value, COUNT(*) AS orders \n",
    "FROM tx_keep_date\n",
    "GROUP BY days_from_first\n",
    "ORDER BY days_from_first\n",
    "\"\"\"\n",
    "sql1_df = pd.read_sql(sql1, con)"
   ]
  },
  {
   "cell_type": "code",
   "execution_count": 8,
   "metadata": {},
   "outputs": [
    {
     "data": {
      "image/png": "[encoded data removed]",
      "text/plain": [
       "<Figure size 864x360 with 2 Axes>"
      ]
     },
     "metadata": {
      "needs_background": "light"
     },
     "output_type": "display_data"
    }
   ],
   "source": [
    "days_from_first = np.array(sql1_df['days_from_first'])\n",
    "value_each_day = np.array(sql1_df['value'])\n",
    "orders_each_day = np.array(sql1_df['orders'])\n",
    "assert len(days_from_first)==len(value_each_day)==len(orders_each_day)\n",
    "\n",
    "pyplot.figure(figsize=(12, 5))\n",
    "pyplot.subplot(121)\n",
    "pyplot.plot(days_from_first, value_each_day/1000)\n",
    "pyplot.xlabel(\"Days from first day\")\n",
    "pyplot.ylabel(\"Transaction value for each day (in thousand)\")\n",
    "pyplot.subplot(122)\n",
    "pyplot.plot(days_from_first, orders_each_day/1000)\n",
    "pyplot.xlabel(\"Days from first day\")\n",
    "pyplot.ylabel(\"Number of orders for each day (in thousand)\")\n",
    "pyplot.show()"
   ]
  },
  {
   "cell_type": "markdown",
   "metadata": {},
   "source": [
    "There is an obvious upward trend in October, November 2011. Our estimate for the holdout period might be underestimating the money value and frecuency with our model."
   ]
  },
  {
   "cell_type": "markdown",
   "metadata": {},
   "source": [
    "#### We aggregate transaction data by customerID. We are particularly interested in the distribution of the frequncy of customers. Most of them who make repeat purchase "
   ]
  },
  {
   "cell_type": "code",
   "execution_count": 9,
   "metadata": {},
   "outputs": [
    {
     "data": {
      "text/html": [
       "<div>\n",
       "<style scoped>\n",
       "    .dataframe tbody tr th:only-of-type {\n",
       "        vertical-align: middle;\n",
       "    }\n",
       "\n",
       "    .dataframe tbody tr th {\n",
       "        vertical-align: top;\n",
       "    }\n",
       "\n",
       "    .dataframe thead th {\n",
       "        text-align: right;\n",
       "    }\n",
       "</style>\n",
       "<table border=\"1\" class=\"dataframe\">\n",
       "  <thead>\n",
       "    <tr style=\"text-align: right;\">\n",
       "      <th></th>\n",
       "      <th>CustomerID</th>\n",
       "      <th>total_value</th>\n",
       "      <th>money_value</th>\n",
       "      <th>frequency</th>\n",
       "    </tr>\n",
       "  </thead>\n",
       "  <tbody>\n",
       "    <tr>\n",
       "      <th>0</th>\n",
       "      <td>17841.0</td>\n",
       "      <td>40340.78</td>\n",
       "      <td>5.053336</td>\n",
       "      <td>7983</td>\n",
       "    </tr>\n",
       "    <tr>\n",
       "      <th>1</th>\n",
       "      <td>14911.0</td>\n",
       "      <td>132572.62</td>\n",
       "      <td>22.458516</td>\n",
       "      <td>5903</td>\n",
       "    </tr>\n",
       "    <tr>\n",
       "      <th>2</th>\n",
       "      <td>14096.0</td>\n",
       "      <td>57120.91</td>\n",
       "      <td>11.139023</td>\n",
       "      <td>5128</td>\n",
       "    </tr>\n",
       "    <tr>\n",
       "      <th>3</th>\n",
       "      <td>12748.0</td>\n",
       "      <td>29072.10</td>\n",
       "      <td>6.262839</td>\n",
       "      <td>4642</td>\n",
       "    </tr>\n",
       "    <tr>\n",
       "      <th>4</th>\n",
       "      <td>14606.0</td>\n",
       "      <td>11713.85</td>\n",
       "      <td>4.210586</td>\n",
       "      <td>2782</td>\n",
       "    </tr>\n",
       "    <tr>\n",
       "      <th>5</th>\n",
       "      <td>15311.0</td>\n",
       "      <td>59419.34</td>\n",
       "      <td>23.853609</td>\n",
       "      <td>2491</td>\n",
       "    </tr>\n",
       "    <tr>\n",
       "      <th>6</th>\n",
       "      <td>14646.0</td>\n",
       "      <td>279489.02</td>\n",
       "      <td>134.047492</td>\n",
       "      <td>2085</td>\n",
       "    </tr>\n",
       "    <tr>\n",
       "      <th>7</th>\n",
       "      <td>13089.0</td>\n",
       "      <td>57385.88</td>\n",
       "      <td>30.902466</td>\n",
       "      <td>1857</td>\n",
       "    </tr>\n",
       "    <tr>\n",
       "      <th>8</th>\n",
       "      <td>13263.0</td>\n",
       "      <td>7454.07</td>\n",
       "      <td>4.444884</td>\n",
       "      <td>1677</td>\n",
       "    </tr>\n",
       "    <tr>\n",
       "      <th>9</th>\n",
       "      <td>14298.0</td>\n",
       "      <td>50862.44</td>\n",
       "      <td>31.013683</td>\n",
       "      <td>1640</td>\n",
       "    </tr>\n",
       "  </tbody>\n",
       "</table>\n",
       "</div>"
      ],
      "text/plain": [
       "   CustomerID  total_value  money_value  frequency\n",
       "0     17841.0     40340.78     5.053336       7983\n",
       "1     14911.0    132572.62    22.458516       5903\n",
       "2     14096.0     57120.91    11.139023       5128\n",
       "3     12748.0     29072.10     6.262839       4642\n",
       "4     14606.0     11713.85     4.210586       2782\n",
       "5     15311.0     59419.34    23.853609       2491\n",
       "6     14646.0    279489.02   134.047492       2085\n",
       "7     13089.0     57385.88    30.902466       1857\n",
       "8     13263.0      7454.07     4.444884       1677\n",
       "9     14298.0     50862.44    31.013683       1640"
      ]
     },
     "execution_count": 9,
     "metadata": {},
     "output_type": "execute_result"
    }
   ],
   "source": [
    "sql2 = \"\"\"\n",
    "SELECT CustomerID, SUM(Quantity*UnitPrice) AS total_value, \n",
    "SUM(Quantity*UnitPrice)/COUNT(*) AS money_value, COUNT(*) AS frequency\n",
    "FROM transactions\n",
    "WHERE CustomerID IS NOT NULL\n",
    "GROUP BY CustomerID \n",
    "HAVING COUNT(*) > 0 AND total_value > 0\n",
    "ORDER BY COUNT(*) DESC\n",
    "\"\"\"\n",
    "sql2_df = pd.read_sql(sql2, con)\n",
    "sql2_df.head(n=10)"
   ]
  },
  {
   "cell_type": "code",
   "execution_count": 10,
   "metadata": {},
   "outputs": [
    {
     "data": {
      "image/png": "[encoded data removed]",
      "text/plain": [
       "<Figure size 864x360 with 2 Axes>"
      ]
     },
     "metadata": {
      "needs_background": "light"
     },
     "output_type": "display_data"
    }
   ],
   "source": [
    "# the distribution of # of transactions per customer (<1000)\n",
    "customer_times_vector = np.array(sql2_df['frequency'])\n",
    "count_vector = [np.sum(customer_times_vector==i) for i in range(8000)]\n",
    "\n",
    "pyplot.figure(figsize=(12, 5))\n",
    "pyplot.subplot(121)\n",
    "pyplot.plot(range(1000), count_vector[:1000])\n",
    "pyplot.xlabel(\"purchasing frequency (times)\")\n",
    "pyplot.ylabel(\"number of customers\")\n",
    "pyplot.subplot(122)\n",
    "pyplot.plot(range(1000), np.cumsum(count_vector)[:1000]/2000)\n",
    "pyplot.xlabel(\"purchasing frequency (times)\")\n",
    "pyplot.ylabel(\"cumulative number of customers (in thousand)\")\n",
    "pyplot.show()"
   ]
  },
  {
   "cell_type": "markdown",
   "metadata": {},
   "source": [
    "For all models, the following nomenclature is used:\n",
    "\n",
    "• frequency represents the number of repeat purchases the customer has made. This means that it’s one less\n",
    "than the total number of purchases. This is actually slightly wrong. <span style=\"color:red\"> It’s the count of time periods the customer had a purchase in</span>. So if using days as units, then it’s the count of days the customer had a purchase on.\n",
    "\n",
    "• T represents the age of the customer in whatever time units chosen (daily, for our dataset). This is equal\n",
    "to the duration between a customer’s first purchase and the end of the period under study.\n",
    "\n",
    "• recency represents the age of the customer when they made their most recent purchases. This is equal to the\n",
    "duration between a customer’s first purchase and their latest purchase. (Thus if they have made only 1 purchase,\n",
    "the recency is 0.)\n",
    "\n",
    "• monetary_value represents the average value of a given customer’s purchases. This is equal to the sum of\n",
    "all a customer’s purchases divided by the total number of purchases. <span style=\"color:red\">Note that the denominator here is different than the frequency described above</span>."
   ]
  },
  {
   "cell_type": "markdown",
   "metadata": {},
   "source": [
    "### Data Prepocessing\n",
    "An important note: <span style=\"color:red\">Calibration period ends 2011-08-31 (default, can be changed below).</span>\n",
    "\n",
    "Two options to get the data in required format:\n",
    "1. Call \"cal_holdout\" function that is defined below (for faster speed and extra attributes)\n",
    "2. Call the built in \"summary_cal_holdout\" from the lifetimes package.\n",
    "\n",
    "Note that the two options result in slightly different parameter estimates because the \"cal_holdout\" function filters out negative transactions."
   ]
  },
  {
   "cell_type": "code",
   "execution_count": 11,
   "metadata": {},
   "outputs": [],
   "source": [
    "def all_customers(original_data_frame = None) -> pd:\n",
    "    \"\"\"\n",
    "    takes the original csv dataset read\n",
    "    leaves out transactions with negative amount\n",
    "    \n",
    "    returns a pandas dataframe that contains the following columns:\n",
    "    CustomerID, total_value, latest_purchase_date, first_purchase_date, monetary_value_per_purchase, frequecy_day\n",
    "    \"\"\"\n",
    "    # Make a copy of the original dataset.\n",
    "    tx_keep_date = tx_data.copy()\n",
    "    # Extract date from datetime\n",
    "    tx_keep_date['InvoiceDate'] = pd.to_datetime(tx_keep_date['InvoiceDate'], format='%m/%d/%y %H:%M').dt.date\n",
    "    # Import the training data into db\n",
    "    tx_keep_date.to_sql(\"tx_keep_date\", con=con, if_exists=\"replace\")\n",
    "    sql = \"\"\"\n",
    "    SELECT CustomerID, SUM(Quantity*UnitPrice) AS total_value, \n",
    "    MAX(InvoiceDate) AS latest, MIN(InvoiceDate) AS first, \n",
    "    SUM(Quantity*UnitPrice)/COUNT(*) AS monetary_value, CASE WHEN COUNT(DISTINCT InvoiceDate)-1 < 0 THEN 0 ELSE COUNT(DISTINCT InvoiceDate)-1 END AS frequency\n",
    "    FROM tx_keep_date\n",
    "    WHERE CustomerID IS NOT NULL\n",
    "    GROUP BY CustomerID \n",
    "    HAVING COUNT(DISTINCT InvoiceDate) >= 0 AND total_value >= 0\n",
    "    ORDER BY COUNT(DISTINCT InvoiceDate) DESC\n",
    "    \"\"\"\n",
    "    all_customers_df = pd.read_sql(sql, con)\n",
    "    return all_customers_df"
   ]
  },
  {
   "cell_type": "code",
   "execution_count": 12,
   "metadata": {},
   "outputs": [],
   "source": [
    "def cal_holdout(original_data_frame = None, cal_end_date = \"2011-08-31\") -> pd:\n",
    "    \"\"\"\n",
    "    takes the original csv dataset read and the last day of calibration period.\n",
    "    leaves out transactions with negative amount\n",
    "    \n",
    "    \n",
    "    returns a pandas dataframe with columns:\n",
    "    \n",
    "    CustomerID (primary index),\n",
    "    total_value_cal (total value of this customer during the calibration period, 0 if no purchase),\n",
    "    first_within_cal (date of first purchase in the calibration period),\n",
    "    latest_within_cal (date of latest purchase in the calibration period),\n",
    "    monetary_value_cal (average value of each transaction in the calibration period, 0 if no purchase),\n",
    "    frequency_cal (number of repeat purchase in the calibration period),\n",
    "    recency_cal (time interval in days from the last purchase to the first),\n",
    "    T_cal (time interval in days from the end of cal period to the first purchase),\n",
    "    frequency_holdout (number of repeat purchase in the holdout period),\n",
    "    total_value_holdout (total value of this customer in the holdout period, 0 if no purchase),\n",
    "    monetary_value_holdout (average value of each transaction in the holdout period, 0 if no purchase),\n",
    "    duration_holdout (duration in days of holdout period)\n",
    "    \"\"\"\n",
    "    # Make a copy of the original dataset.\n",
    "    tx_keep_date = tx_data.copy()\n",
    "    \n",
    "    # Extract date from datetime\n",
    "    tx_keep_date['InvoiceDate'] = pd.to_datetime(tx_keep_date['InvoiceDate'], format='%m/%d/%y %H:%M').dt.date\n",
    "    \n",
    "    # Extract all the records whose transaction date is within calibration period.\n",
    "    cal_df = tx_keep_date[tx_keep_date['InvoiceDate'] <= datetime.date.fromisoformat(cal_end_date)]\n",
    "    # The rest as holdout\n",
    "    hold_df = tx_keep_date[tx_keep_date['InvoiceDate'] > datetime.date.fromisoformat(cal_end_date)]\n",
    "    \n",
    "    # Use the latest record in holdout to calculate duration_holdout\n",
    "    latest_holdout = hold_df['InvoiceDate'].max()\n",
    "    duration_holdout = (latest_holdout - datetime.date.fromisoformat(cal_end_date)).days\n",
    "    \n",
    "    # Export pandas df to db\n",
    "    cal_df.to_sql(\"cal\", con, if_exists=\"replace\")\n",
    "    hold_df.to_sql(\"hold\", con, if_exists=\"replace\")\n",
    "    \n",
    "    sql = f\"\"\"\n",
    "    SELECT c.CustomerID, c.total_value_cal, c.first_within_cal, c.latest_within_cal, \n",
    "    c.monetary_value_cal, c.frequency_cal, julianday(c.latest_within_cal)-julianday(c.first_within_cal) AS recency_cal,\n",
    "    julianday('{cal_end_date}')-julianday(c.first_within_cal) AS T_cal,\n",
    "    IFNULL(h.frequency_hold, 0) AS frequency_holdout, IFNULL(h.total_value_hold, 0) AS total_value_holdout, \n",
    "    IFNULL(h.monetary_value_hold, 0) AS monetary_value_holdout, {duration_holdout} AS duration_holdout\n",
    "    FROM\n",
    "    (SELECT CustomerID, SUM(Quantity*UnitPrice) AS total_value_cal, \n",
    "    MAX(InvoiceDate) AS latest_within_cal, MIN(InvoiceDate) AS first_within_cal, \n",
    "    SUM(Quantity*UnitPrice)/COUNT(*) AS monetary_value_cal, \n",
    "    CASE WHEN COUNT(DISTINCT InvoiceDate)-1 < 0 THEN 0 ELSE COUNT(DISTINCT InvoiceDate)-1 END AS frequency_cal\n",
    "    FROM cal\n",
    "    WHERE CustomerID IS NOT NULL\n",
    "    GROUP BY CustomerID \n",
    "    HAVING COUNT(DISTINCT InvoiceDate) >= 0 AND total_value_cal >= 0) c\n",
    "    LEFT JOIN \n",
    "    (SELECT CustomerID, SUM(Quantity*UnitPrice) AS total_value_hold,\n",
    "    SUM(Quantity*UnitPrice)/COUNT(*) AS monetary_value_hold, \n",
    "    COUNT(DISTINCT InvoiceDate) AS frequency_hold\n",
    "    FROM hold\n",
    "    WHERE CustomerID IS NOT NULL\n",
    "    GROUP BY CustomerID\n",
    "    HAVING COUNT(DISTINCT InvoiceDate) >= 0 AND total_value_hold >= 0) h\n",
    "    ON c.CustomerID = h.CustomerID\n",
    "    ORDER BY c.CustomerID\n",
    "    \n",
    "    \"\"\"\n",
    "    cal_hold_df = pd.read_sql(sql, con)\n",
    "    cal_hold_df.set_index('CustomerID', inplace=True, drop=True)\n",
    "    return cal_hold_df"
   ]
  },
  {
   "cell_type": "code",
   "execution_count": 13,
   "metadata": {},
   "outputs": [
    {
     "data": {
      "text/html": [
       "<div>\n",
       "<style scoped>\n",
       "    .dataframe tbody tr th:only-of-type {\n",
       "        vertical-align: middle;\n",
       "    }\n",
       "\n",
       "    .dataframe tbody tr th {\n",
       "        vertical-align: top;\n",
       "    }\n",
       "\n",
       "    .dataframe thead th {\n",
       "        text-align: right;\n",
       "    }\n",
       "</style>\n",
       "<table border=\"1\" class=\"dataframe\">\n",
       "  <thead>\n",
       "    <tr style=\"text-align: right;\">\n",
       "      <th></th>\n",
       "      <th>total_value_cal</th>\n",
       "      <th>first_within_cal</th>\n",
       "      <th>latest_within_cal</th>\n",
       "      <th>monetary_value_cal</th>\n",
       "      <th>frequency_cal</th>\n",
       "      <th>recency_cal</th>\n",
       "      <th>T_cal</th>\n",
       "      <th>frequency_holdout</th>\n",
       "      <th>total_value_holdout</th>\n",
       "      <th>monetary_value_holdout</th>\n",
       "      <th>duration_holdout</th>\n",
       "    </tr>\n",
       "    <tr>\n",
       "      <th>CustomerID</th>\n",
       "      <th></th>\n",
       "      <th></th>\n",
       "      <th></th>\n",
       "      <th></th>\n",
       "      <th></th>\n",
       "      <th></th>\n",
       "      <th></th>\n",
       "      <th></th>\n",
       "      <th></th>\n",
       "      <th></th>\n",
       "      <th></th>\n",
       "    </tr>\n",
       "  </thead>\n",
       "  <tbody>\n",
       "    <tr>\n",
       "      <th>12346.0</th>\n",
       "      <td>0.00</td>\n",
       "      <td>2011-01-18</td>\n",
       "      <td>2011-01-18</td>\n",
       "      <td>0.000000</td>\n",
       "      <td>0</td>\n",
       "      <td>0.0</td>\n",
       "      <td>225.0</td>\n",
       "      <td>0</td>\n",
       "      <td>0.00</td>\n",
       "      <td>0.000000</td>\n",
       "      <td>100</td>\n",
       "    </tr>\n",
       "    <tr>\n",
       "      <th>12347.0</th>\n",
       "      <td>2790.86</td>\n",
       "      <td>2010-12-07</td>\n",
       "      <td>2011-08-02</td>\n",
       "      <td>22.506935</td>\n",
       "      <td>4</td>\n",
       "      <td>238.0</td>\n",
       "      <td>267.0</td>\n",
       "      <td>2</td>\n",
       "      <td>1519.14</td>\n",
       "      <td>26.192069</td>\n",
       "      <td>100</td>\n",
       "    </tr>\n",
       "    <tr>\n",
       "      <th>12348.0</th>\n",
       "      <td>1487.24</td>\n",
       "      <td>2010-12-16</td>\n",
       "      <td>2011-04-05</td>\n",
       "      <td>53.115714</td>\n",
       "      <td>2</td>\n",
       "      <td>110.0</td>\n",
       "      <td>258.0</td>\n",
       "      <td>1</td>\n",
       "      <td>310.00</td>\n",
       "      <td>103.333333</td>\n",
       "      <td>100</td>\n",
       "    </tr>\n",
       "    <tr>\n",
       "      <th>12350.0</th>\n",
       "      <td>334.40</td>\n",
       "      <td>2011-02-02</td>\n",
       "      <td>2011-02-02</td>\n",
       "      <td>19.670588</td>\n",
       "      <td>0</td>\n",
       "      <td>0.0</td>\n",
       "      <td>210.0</td>\n",
       "      <td>0</td>\n",
       "      <td>0.00</td>\n",
       "      <td>0.000000</td>\n",
       "      <td>100</td>\n",
       "    </tr>\n",
       "    <tr>\n",
       "      <th>12352.0</th>\n",
       "      <td>601.18</td>\n",
       "      <td>2011-02-16</td>\n",
       "      <td>2011-03-22</td>\n",
       "      <td>12.524583</td>\n",
       "      <td>3</td>\n",
       "      <td>34.0</td>\n",
       "      <td>196.0</td>\n",
       "      <td>3</td>\n",
       "      <td>944.23</td>\n",
       "      <td>20.090000</td>\n",
       "      <td>100</td>\n",
       "    </tr>\n",
       "  </tbody>\n",
       "</table>\n",
       "</div>"
      ],
      "text/plain": [
       "            total_value_cal first_within_cal latest_within_cal  \\\n",
       "CustomerID                                                       \n",
       "12346.0                0.00       2011-01-18        2011-01-18   \n",
       "12347.0             2790.86       2010-12-07        2011-08-02   \n",
       "12348.0             1487.24       2010-12-16        2011-04-05   \n",
       "12350.0              334.40       2011-02-02        2011-02-02   \n",
       "12352.0              601.18       2011-02-16        2011-03-22   \n",
       "\n",
       "            monetary_value_cal  frequency_cal  recency_cal  T_cal  \\\n",
       "CustomerID                                                          \n",
       "12346.0               0.000000              0          0.0  225.0   \n",
       "12347.0              22.506935              4        238.0  267.0   \n",
       "12348.0              53.115714              2        110.0  258.0   \n",
       "12350.0              19.670588              0          0.0  210.0   \n",
       "12352.0              12.524583              3         34.0  196.0   \n",
       "\n",
       "            frequency_holdout  total_value_holdout  monetary_value_holdout  \\\n",
       "CustomerID                                                                   \n",
       "12346.0                     0                 0.00                0.000000   \n",
       "12347.0                     2              1519.14               26.192069   \n",
       "12348.0                     1               310.00              103.333333   \n",
       "12350.0                     0                 0.00                0.000000   \n",
       "12352.0                     3               944.23               20.090000   \n",
       "\n",
       "            duration_holdout  \n",
       "CustomerID                    \n",
       "12346.0                  100  \n",
       "12347.0                  100  \n",
       "12348.0                  100  \n",
       "12350.0                  100  \n",
       "12352.0                  100  "
      ]
     },
     "execution_count": 13,
     "metadata": {},
     "output_type": "execute_result"
    }
   ],
   "source": [
    "# Option 1: Using cal_holdout function\n",
    "cal_hold_df = cal_holdout(tx_data)\n",
    "cal_hold_df.head()"
   ]
  },
  {
   "cell_type": "code",
   "execution_count": 14,
   "metadata": {},
   "outputs": [
    {
     "data": {
      "text/html": [
       "<div>\n",
       "<style scoped>\n",
       "    .dataframe tbody tr th:only-of-type {\n",
       "        vertical-align: middle;\n",
       "    }\n",
       "\n",
       "    .dataframe tbody tr th {\n",
       "        vertical-align: top;\n",
       "    }\n",
       "\n",
       "    .dataframe thead th {\n",
       "        text-align: right;\n",
       "    }\n",
       "</style>\n",
       "<table border=\"1\" class=\"dataframe\">\n",
       "  <thead>\n",
       "    <tr style=\"text-align: right;\">\n",
       "      <th></th>\n",
       "      <th>total_value_cal</th>\n",
       "      <th>first_within_cal</th>\n",
       "      <th>latest_within_cal</th>\n",
       "      <th>monetary_value_cal</th>\n",
       "      <th>frequency_cal</th>\n",
       "      <th>recency_cal</th>\n",
       "      <th>T_cal</th>\n",
       "      <th>frequency_holdout</th>\n",
       "      <th>total_value_holdout</th>\n",
       "      <th>monetary_value_holdout</th>\n",
       "      <th>duration_holdout</th>\n",
       "    </tr>\n",
       "    <tr>\n",
       "      <th>CustomerID</th>\n",
       "      <th></th>\n",
       "      <th></th>\n",
       "      <th></th>\n",
       "      <th></th>\n",
       "      <th></th>\n",
       "      <th></th>\n",
       "      <th></th>\n",
       "      <th></th>\n",
       "      <th></th>\n",
       "      <th></th>\n",
       "      <th></th>\n",
       "    </tr>\n",
       "  </thead>\n",
       "  <tbody>\n",
       "    <tr>\n",
       "      <th>17190.0</th>\n",
       "      <td>0.0</td>\n",
       "      <td>2011-05-16</td>\n",
       "      <td>2011-06-06</td>\n",
       "      <td>0.0</td>\n",
       "      <td>1</td>\n",
       "      <td>21.0</td>\n",
       "      <td>107.0</td>\n",
       "      <td>1</td>\n",
       "      <td>249.74</td>\n",
       "      <td>13.874444</td>\n",
       "      <td>100</td>\n",
       "    </tr>\n",
       "  </tbody>\n",
       "</table>\n",
       "</div>"
      ],
      "text/plain": [
       "            total_value_cal first_within_cal latest_within_cal  \\\n",
       "CustomerID                                                       \n",
       "17190.0                 0.0       2011-05-16        2011-06-06   \n",
       "\n",
       "            monetary_value_cal  frequency_cal  recency_cal  T_cal  \\\n",
       "CustomerID                                                          \n",
       "17190.0                    0.0              1         21.0  107.0   \n",
       "\n",
       "            frequency_holdout  total_value_holdout  monetary_value_holdout  \\\n",
       "CustomerID                                                                   \n",
       "17190.0                     1               249.74               13.874444   \n",
       "\n",
       "            duration_holdout  \n",
       "CustomerID                    \n",
       "17190.0                  100  "
      ]
     },
     "execution_count": 14,
     "metadata": {},
     "output_type": "execute_result"
    }
   ],
   "source": [
    "# look for anomalies\n",
    "cal_hold_df[((cal_hold_df['monetary_value_cal']<=0) & (cal_hold_df['frequency_cal']>0))]"
   ]
  },
  {
   "cell_type": "code",
   "execution_count": 15,
   "metadata": {},
   "outputs": [
    {
     "data": {
      "text/html": [
       "<div>\n",
       "<style scoped>\n",
       "    .dataframe tbody tr th:only-of-type {\n",
       "        vertical-align: middle;\n",
       "    }\n",
       "\n",
       "    .dataframe tbody tr th {\n",
       "        vertical-align: top;\n",
       "    }\n",
       "\n",
       "    .dataframe thead th {\n",
       "        text-align: right;\n",
       "    }\n",
       "</style>\n",
       "<table border=\"1\" class=\"dataframe\">\n",
       "  <thead>\n",
       "    <tr style=\"text-align: right;\">\n",
       "      <th></th>\n",
       "      <th>total_value_cal</th>\n",
       "      <th>first_within_cal</th>\n",
       "      <th>latest_within_cal</th>\n",
       "      <th>monetary_value_cal</th>\n",
       "      <th>frequency_cal</th>\n",
       "      <th>recency_cal</th>\n",
       "      <th>T_cal</th>\n",
       "      <th>frequency_holdout</th>\n",
       "      <th>total_value_holdout</th>\n",
       "      <th>monetary_value_holdout</th>\n",
       "      <th>duration_holdout</th>\n",
       "    </tr>\n",
       "    <tr>\n",
       "      <th>CustomerID</th>\n",
       "      <th></th>\n",
       "      <th></th>\n",
       "      <th></th>\n",
       "      <th></th>\n",
       "      <th></th>\n",
       "      <th></th>\n",
       "      <th></th>\n",
       "      <th></th>\n",
       "      <th></th>\n",
       "      <th></th>\n",
       "      <th></th>\n",
       "    </tr>\n",
       "  </thead>\n",
       "  <tbody>\n",
       "    <tr>\n",
       "      <th>12346.0</th>\n",
       "      <td>0.00</td>\n",
       "      <td>2011-01-18</td>\n",
       "      <td>2011-01-18</td>\n",
       "      <td>0.000000</td>\n",
       "      <td>0</td>\n",
       "      <td>0.0</td>\n",
       "      <td>225.0</td>\n",
       "      <td>0</td>\n",
       "      <td>0.00</td>\n",
       "      <td>0.000000</td>\n",
       "      <td>100</td>\n",
       "    </tr>\n",
       "    <tr>\n",
       "      <th>12347.0</th>\n",
       "      <td>2790.86</td>\n",
       "      <td>2010-12-07</td>\n",
       "      <td>2011-08-02</td>\n",
       "      <td>22.506935</td>\n",
       "      <td>4</td>\n",
       "      <td>238.0</td>\n",
       "      <td>267.0</td>\n",
       "      <td>2</td>\n",
       "      <td>1519.14</td>\n",
       "      <td>26.192069</td>\n",
       "      <td>100</td>\n",
       "    </tr>\n",
       "    <tr>\n",
       "      <th>12348.0</th>\n",
       "      <td>1487.24</td>\n",
       "      <td>2010-12-16</td>\n",
       "      <td>2011-04-05</td>\n",
       "      <td>53.115714</td>\n",
       "      <td>2</td>\n",
       "      <td>110.0</td>\n",
       "      <td>258.0</td>\n",
       "      <td>1</td>\n",
       "      <td>310.00</td>\n",
       "      <td>103.333333</td>\n",
       "      <td>100</td>\n",
       "    </tr>\n",
       "    <tr>\n",
       "      <th>12350.0</th>\n",
       "      <td>334.40</td>\n",
       "      <td>2011-02-02</td>\n",
       "      <td>2011-02-02</td>\n",
       "      <td>19.670588</td>\n",
       "      <td>0</td>\n",
       "      <td>0.0</td>\n",
       "      <td>210.0</td>\n",
       "      <td>0</td>\n",
       "      <td>0.00</td>\n",
       "      <td>0.000000</td>\n",
       "      <td>100</td>\n",
       "    </tr>\n",
       "    <tr>\n",
       "      <th>12352.0</th>\n",
       "      <td>601.18</td>\n",
       "      <td>2011-02-16</td>\n",
       "      <td>2011-03-22</td>\n",
       "      <td>12.524583</td>\n",
       "      <td>3</td>\n",
       "      <td>34.0</td>\n",
       "      <td>196.0</td>\n",
       "      <td>3</td>\n",
       "      <td>944.23</td>\n",
       "      <td>20.090000</td>\n",
       "      <td>100</td>\n",
       "    </tr>\n",
       "  </tbody>\n",
       "</table>\n",
       "</div>"
      ],
      "text/plain": [
       "            total_value_cal first_within_cal latest_within_cal  \\\n",
       "CustomerID                                                       \n",
       "12346.0                0.00       2011-01-18        2011-01-18   \n",
       "12347.0             2790.86       2010-12-07        2011-08-02   \n",
       "12348.0             1487.24       2010-12-16        2011-04-05   \n",
       "12350.0              334.40       2011-02-02        2011-02-02   \n",
       "12352.0              601.18       2011-02-16        2011-03-22   \n",
       "\n",
       "            monetary_value_cal  frequency_cal  recency_cal  T_cal  \\\n",
       "CustomerID                                                          \n",
       "12346.0               0.000000              0          0.0  225.0   \n",
       "12347.0              22.506935              4        238.0  267.0   \n",
       "12348.0              53.115714              2        110.0  258.0   \n",
       "12350.0              19.670588              0          0.0  210.0   \n",
       "12352.0              12.524583              3         34.0  196.0   \n",
       "\n",
       "            frequency_holdout  total_value_holdout  monetary_value_holdout  \\\n",
       "CustomerID                                                                   \n",
       "12346.0                     0                 0.00                0.000000   \n",
       "12347.0                     2              1519.14               26.192069   \n",
       "12348.0                     1               310.00              103.333333   \n",
       "12350.0                     0                 0.00                0.000000   \n",
       "12352.0                     3               944.23               20.090000   \n",
       "\n",
       "            duration_holdout  \n",
       "CustomerID                    \n",
       "12346.0                  100  \n",
       "12347.0                  100  \n",
       "12348.0                  100  \n",
       "12350.0                  100  \n",
       "12352.0                  100  "
      ]
     },
     "execution_count": 15,
     "metadata": {},
     "output_type": "execute_result"
    }
   ],
   "source": [
    "# drop customer id == 17190.0\n",
    "cal_hold_df.drop(17190.0).head()"
   ]
  },
  {
   "cell_type": "code",
   "execution_count": 354,
   "metadata": {},
   "outputs": [
    {
     "data": {
      "text/html": [
       "<div>\n",
       "<style scoped>\n",
       "    .dataframe tbody tr th:only-of-type {\n",
       "        vertical-align: middle;\n",
       "    }\n",
       "\n",
       "    .dataframe tbody tr th {\n",
       "        vertical-align: top;\n",
       "    }\n",
       "\n",
       "    .dataframe thead th {\n",
       "        text-align: right;\n",
       "    }\n",
       "</style>\n",
       "<table border=\"1\" class=\"dataframe\">\n",
       "  <thead>\n",
       "    <tr style=\"text-align: right;\">\n",
       "      <th></th>\n",
       "      <th>coef</th>\n",
       "      <th>se(coef)</th>\n",
       "      <th>lower 95% bound</th>\n",
       "      <th>upper 95% bound</th>\n",
       "    </tr>\n",
       "  </thead>\n",
       "  <tbody>\n",
       "    <tr>\n",
       "      <th>r</th>\n",
       "      <td>0.731398</td>\n",
       "      <td>0.026519</td>\n",
       "      <td>0.679420</td>\n",
       "      <td>0.783376</td>\n",
       "    </tr>\n",
       "    <tr>\n",
       "      <th>alpha</th>\n",
       "      <td>49.280975</td>\n",
       "      <td>2.245855</td>\n",
       "      <td>44.879099</td>\n",
       "      <td>53.682851</td>\n",
       "    </tr>\n",
       "    <tr>\n",
       "      <th>a</th>\n",
       "      <td>0.025031</td>\n",
       "      <td>0.006795</td>\n",
       "      <td>0.011712</td>\n",
       "      <td>0.038350</td>\n",
       "    </tr>\n",
       "    <tr>\n",
       "      <th>b</th>\n",
       "      <td>0.310906</td>\n",
       "      <td>0.074960</td>\n",
       "      <td>0.163984</td>\n",
       "      <td>0.457829</td>\n",
       "    </tr>\n",
       "  </tbody>\n",
       "</table>\n",
       "</div>"
      ],
      "text/plain": [
       "            coef  se(coef)  lower 95% bound  upper 95% bound\n",
       "r       0.731398  0.026519         0.679420         0.783376\n",
       "alpha  49.280975  2.245855        44.879099        53.682851\n",
       "a       0.025031  0.006795         0.011712         0.038350\n",
       "b       0.310906  0.074960         0.163984         0.457829"
      ]
     },
     "execution_count": 354,
     "metadata": {},
     "output_type": "execute_result"
    }
   ],
   "source": [
    "bgf1 = BetaGeoFitter(penalizer_coef=0.01)\n",
    "bgf1.fit(cal_hold_df['frequency_cal'], cal_hold_df['recency_cal'], cal_hold_df['T_cal'])\n",
    "bgf1.summary"
   ]
  },
  {
   "cell_type": "code",
   "execution_count": 18,
   "metadata": {},
   "outputs": [
    {
     "data": {
      "text/html": [
       "<div>\n",
       "<style scoped>\n",
       "    .dataframe tbody tr th:only-of-type {\n",
       "        vertical-align: middle;\n",
       "    }\n",
       "\n",
       "    .dataframe tbody tr th {\n",
       "        vertical-align: top;\n",
       "    }\n",
       "\n",
       "    .dataframe thead th {\n",
       "        text-align: right;\n",
       "    }\n",
       "</style>\n",
       "<table border=\"1\" class=\"dataframe\">\n",
       "  <thead>\n",
       "    <tr style=\"text-align: right;\">\n",
       "      <th></th>\n",
       "      <th>frequency_cal</th>\n",
       "      <th>recency_cal</th>\n",
       "      <th>T_cal</th>\n",
       "      <th>frequency_holdout</th>\n",
       "      <th>duration_holdout</th>\n",
       "    </tr>\n",
       "    <tr>\n",
       "      <th>CustomerID</th>\n",
       "      <th></th>\n",
       "      <th></th>\n",
       "      <th></th>\n",
       "      <th></th>\n",
       "      <th></th>\n",
       "    </tr>\n",
       "  </thead>\n",
       "  <tbody>\n",
       "    <tr>\n",
       "      <th>12346.0</th>\n",
       "      <td>0.0</td>\n",
       "      <td>0.0</td>\n",
       "      <td>225.0</td>\n",
       "      <td>0.0</td>\n",
       "      <td>100.0</td>\n",
       "    </tr>\n",
       "    <tr>\n",
       "      <th>12347.0</th>\n",
       "      <td>4.0</td>\n",
       "      <td>238.0</td>\n",
       "      <td>267.0</td>\n",
       "      <td>2.0</td>\n",
       "      <td>100.0</td>\n",
       "    </tr>\n",
       "    <tr>\n",
       "      <th>12348.0</th>\n",
       "      <td>2.0</td>\n",
       "      <td>110.0</td>\n",
       "      <td>258.0</td>\n",
       "      <td>1.0</td>\n",
       "      <td>100.0</td>\n",
       "    </tr>\n",
       "    <tr>\n",
       "      <th>12350.0</th>\n",
       "      <td>0.0</td>\n",
       "      <td>0.0</td>\n",
       "      <td>210.0</td>\n",
       "      <td>0.0</td>\n",
       "      <td>100.0</td>\n",
       "    </tr>\n",
       "    <tr>\n",
       "      <th>12352.0</th>\n",
       "      <td>3.0</td>\n",
       "      <td>34.0</td>\n",
       "      <td>196.0</td>\n",
       "      <td>3.0</td>\n",
       "      <td>100.0</td>\n",
       "    </tr>\n",
       "  </tbody>\n",
       "</table>\n",
       "</div>"
      ],
      "text/plain": [
       "            frequency_cal  recency_cal  T_cal  frequency_holdout  \\\n",
       "CustomerID                                                         \n",
       "12346.0               0.0          0.0  225.0                0.0   \n",
       "12347.0               4.0        238.0  267.0                2.0   \n",
       "12348.0               2.0        110.0  258.0                1.0   \n",
       "12350.0               0.0          0.0  210.0                0.0   \n",
       "12352.0               3.0         34.0  196.0                3.0   \n",
       "\n",
       "            duration_holdout  \n",
       "CustomerID                    \n",
       "12346.0                100.0  \n",
       "12347.0                100.0  \n",
       "12348.0                100.0  \n",
       "12350.0                100.0  \n",
       "12352.0                100.0  "
      ]
     },
     "execution_count": 18,
     "metadata": {},
     "output_type": "execute_result"
    }
   ],
   "source": [
    "# Option 2: Using the built-in summary_cal_holdout function (which takes longer time)\n",
    "\n",
    "# similar API to scikit-learn and lifelines.\n",
    "summary_cal_holdout = calibration_and_holdout_data(tx_keep_date, 'CustomerID', 'InvoiceDate',\n",
    "calibration_period_end='2011-08-31',\n",
    "observation_period_end='2011-12-09' )\n",
    "summary_cal_holdout.head()"
   ]
  },
  {
   "cell_type": "code",
   "execution_count": 19,
   "metadata": {},
   "outputs": [
    {
     "data": {
      "text/html": [
       "<div>\n",
       "<style scoped>\n",
       "    .dataframe tbody tr th:only-of-type {\n",
       "        vertical-align: middle;\n",
       "    }\n",
       "\n",
       "    .dataframe tbody tr th {\n",
       "        vertical-align: top;\n",
       "    }\n",
       "\n",
       "    .dataframe thead th {\n",
       "        text-align: right;\n",
       "    }\n",
       "</style>\n",
       "<table border=\"1\" class=\"dataframe\">\n",
       "  <thead>\n",
       "    <tr style=\"text-align: right;\">\n",
       "      <th></th>\n",
       "      <th>coef</th>\n",
       "      <th>se(coef)</th>\n",
       "      <th>lower 95% bound</th>\n",
       "      <th>upper 95% bound</th>\n",
       "    </tr>\n",
       "  </thead>\n",
       "  <tbody>\n",
       "    <tr>\n",
       "      <th>r</th>\n",
       "      <td>0.742604</td>\n",
       "      <td>0.028175</td>\n",
       "      <td>0.687382</td>\n",
       "      <td>0.797826</td>\n",
       "    </tr>\n",
       "    <tr>\n",
       "      <th>alpha</th>\n",
       "      <td>50.626912</td>\n",
       "      <td>2.371005</td>\n",
       "      <td>45.979743</td>\n",
       "      <td>55.274082</td>\n",
       "    </tr>\n",
       "    <tr>\n",
       "      <th>a</th>\n",
       "      <td>0.053138</td>\n",
       "      <td>0.015486</td>\n",
       "      <td>0.022786</td>\n",
       "      <td>0.083491</td>\n",
       "    </tr>\n",
       "    <tr>\n",
       "      <th>b</th>\n",
       "      <td>0.772902</td>\n",
       "      <td>0.271657</td>\n",
       "      <td>0.240455</td>\n",
       "      <td>1.305349</td>\n",
       "    </tr>\n",
       "  </tbody>\n",
       "</table>\n",
       "</div>"
      ],
      "text/plain": [
       "            coef  se(coef)  lower 95% bound  upper 95% bound\n",
       "r       0.742604  0.028175         0.687382         0.797826\n",
       "alpha  50.626912  2.371005        45.979743        55.274082\n",
       "a       0.053138  0.015486         0.022786         0.083491\n",
       "b       0.772902  0.271657         0.240455         1.305349"
      ]
     },
     "execution_count": 19,
     "metadata": {},
     "output_type": "execute_result"
    }
   ],
   "source": [
    "bgf = BetaGeoFitter(penalizer_coef=0.0)\n",
    "bgf.fit(summary_cal_holdout['frequency_cal'], summary_cal_holdout['recency_cal'], summary_cal_holdout['T_cal'])\n",
    "bgf.summary"
   ]
  },
  {
   "cell_type": "markdown",
   "metadata": {},
   "source": [
    "\n",
    "\n",
    "### Using the Frequency/Recency matrix to look at the expected number of transactions a customer is to make in the next time period (in our case, the next day)"
   ]
  },
  {
   "cell_type": "code",
   "execution_count": 20,
   "metadata": {},
   "outputs": [
    {
     "data": {
      "image/png": "[encoded data removed]",
      "text/plain": [
       "<Figure size 864x504 with 2 Axes>"
      ]
     },
     "metadata": {
      "needs_background": "light"
     },
     "output_type": "display_data"
    }
   ],
   "source": [
    "# Frequency/Recency Matrix - the expected number of transactions a customer is to make in the next time period\n",
    "\n",
    "pyplot.figure(figsize=(12, 7))\n",
    "plot_frequency_recency_matrix(bgf1)\n",
    "pyplot.show()\n"
   ]
  },
  {
   "cell_type": "markdown",
   "metadata": {},
   "source": [
    "The “warm” zone in the bottom-right corner represents the most reliable and committed customers, who purchase frequency and placed their latest order recently.\n",
    "\n",
    "Older and less frequent (“colder”) customers are shown in the top left.\n",
    "\n",
    "A tail is visible in the bottom-left quadrant. These customers are infrequent but made a purchase recently, so the model expects them to make more purchases in the near future."
   ]
  },
  {
   "cell_type": "markdown",
   "metadata": {},
   "source": [
    "### Using the Frequency/Recency matrix to look at the probability of a customer still being \"alive\"."
   ]
  },
  {
   "cell_type": "code",
   "execution_count": 21,
   "metadata": {
    "scrolled": false
   },
   "outputs": [
    {
     "data": {
      "image/png": "[encoded data removed]",
      "text/plain": [
       "<Figure size 864x504 with 2 Axes>"
      ]
     },
     "metadata": {
      "needs_background": "light"
     },
     "output_type": "display_data"
    }
   ],
   "source": [
    "# Frequency/Recency Matrix - the probability of still being \"alive\"\n",
    "\n",
    "pyplot.figure(figsize=(12, 7))\n",
    "plot_probability_alive_matrix(bgf1)\n",
    "pyplot.show()"
   ]
  },
  {
   "cell_type": "markdown",
   "metadata": {},
   "source": [
    "Customers who purchased recently are more likely to be \"alive\"."
   ]
  },
  {
   "cell_type": "markdown",
   "metadata": {},
   "source": [
    "### Take a look at our best customers\n",
    "based on expected number of purchases"
   ]
  },
  {
   "cell_type": "code",
   "execution_count": 22,
   "metadata": {},
   "outputs": [
    {
     "data": {
      "text/html": [
       "<div>\n",
       "<style scoped>\n",
       "    .dataframe tbody tr th:only-of-type {\n",
       "        vertical-align: middle;\n",
       "    }\n",
       "\n",
       "    .dataframe tbody tr th {\n",
       "        vertical-align: top;\n",
       "    }\n",
       "\n",
       "    .dataframe thead th {\n",
       "        text-align: right;\n",
       "    }\n",
       "</style>\n",
       "<table border=\"1\" class=\"dataframe\">\n",
       "  <thead>\n",
       "    <tr style=\"text-align: right;\">\n",
       "      <th></th>\n",
       "      <th>frequency_cal</th>\n",
       "      <th>recency_cal</th>\n",
       "      <th>T_cal</th>\n",
       "      <th>predicted_purchases</th>\n",
       "    </tr>\n",
       "    <tr>\n",
       "      <th>CustomerID</th>\n",
       "      <th></th>\n",
       "      <th></th>\n",
       "      <th></th>\n",
       "      <th></th>\n",
       "    </tr>\n",
       "  </thead>\n",
       "  <tbody>\n",
       "    <tr>\n",
       "      <th>15189.0</th>\n",
       "      <td>33</td>\n",
       "      <td>226.0</td>\n",
       "      <td>232.0</td>\n",
       "      <td>0.119723</td>\n",
       "    </tr>\n",
       "    <tr>\n",
       "      <th>14527.0</th>\n",
       "      <td>43</td>\n",
       "      <td>272.0</td>\n",
       "      <td>273.0</td>\n",
       "      <td>0.135596</td>\n",
       "    </tr>\n",
       "    <tr>\n",
       "      <th>12971.0</th>\n",
       "      <td>50</td>\n",
       "      <td>265.0</td>\n",
       "      <td>272.0</td>\n",
       "      <td>0.157653</td>\n",
       "    </tr>\n",
       "    <tr>\n",
       "      <th>16422.0</th>\n",
       "      <td>53</td>\n",
       "      <td>269.0</td>\n",
       "      <td>269.0</td>\n",
       "      <td>0.168730</td>\n",
       "    </tr>\n",
       "    <tr>\n",
       "      <th>15311.0</th>\n",
       "      <td>62</td>\n",
       "      <td>261.0</td>\n",
       "      <td>273.0</td>\n",
       "      <td>0.193785</td>\n",
       "    </tr>\n",
       "    <tr>\n",
       "      <th>13089.0</th>\n",
       "      <td>61</td>\n",
       "      <td>269.0</td>\n",
       "      <td>269.0</td>\n",
       "      <td>0.193864</td>\n",
       "    </tr>\n",
       "    <tr>\n",
       "      <th>14606.0</th>\n",
       "      <td>64</td>\n",
       "      <td>270.0</td>\n",
       "      <td>273.0</td>\n",
       "      <td>0.200701</td>\n",
       "    </tr>\n",
       "    <tr>\n",
       "      <th>12748.0</th>\n",
       "      <td>69</td>\n",
       "      <td>272.0</td>\n",
       "      <td>273.0</td>\n",
       "      <td>0.216261</td>\n",
       "    </tr>\n",
       "    <tr>\n",
       "      <th>17841.0</th>\n",
       "      <td>73</td>\n",
       "      <td>270.0</td>\n",
       "      <td>273.0</td>\n",
       "      <td>0.228613</td>\n",
       "    </tr>\n",
       "    <tr>\n",
       "      <th>14911.0</th>\n",
       "      <td>89</td>\n",
       "      <td>272.0</td>\n",
       "      <td>273.0</td>\n",
       "      <td>0.278311</td>\n",
       "    </tr>\n",
       "  </tbody>\n",
       "</table>\n",
       "</div>"
      ],
      "text/plain": [
       "            frequency_cal  recency_cal  T_cal  predicted_purchases\n",
       "CustomerID                                                        \n",
       "15189.0                33        226.0  232.0             0.119723\n",
       "14527.0                43        272.0  273.0             0.135596\n",
       "12971.0                50        265.0  272.0             0.157653\n",
       "16422.0                53        269.0  269.0             0.168730\n",
       "15311.0                62        261.0  273.0             0.193785\n",
       "13089.0                61        269.0  269.0             0.193864\n",
       "14606.0                64        270.0  273.0             0.200701\n",
       "12748.0                69        272.0  273.0             0.216261\n",
       "17841.0                73        270.0  273.0             0.228613\n",
       "14911.0                89        272.0  273.0             0.278311"
      ]
     },
     "execution_count": 22,
     "metadata": {},
     "output_type": "execute_result"
    }
   ],
   "source": [
    "# create a subset of cal_hold_df \n",
    "cal_df = cal_hold_df[['frequency_cal', 'recency_cal', 'T_cal']]\n",
    "\n",
    "# time period\n",
    "t = 1\n",
    "\n",
    "# top n customers\n",
    "top_n = 10\n",
    "\n",
    "# sort customers by expected number of purchases in the next t days and display the top n customers\n",
    "cal_df['predicted_purchases'] = bgf1.conditional_expected_number_of_purchases_up_to_time(t, \n",
    "                                cal_df['frequency_cal'], cal_df['recency_cal'], cal_df['T_cal'])\n",
    "cal_df.sort_values(by='predicted_purchases').tail(top_n)"
   ]
  },
  {
   "cell_type": "markdown",
   "metadata": {},
   "source": [
    "### Look at the historical probability of being alive of a customer"
   ]
  },
  {
   "cell_type": "code",
   "execution_count": 23,
   "metadata": {},
   "outputs": [
    {
     "data": {
      "image/png": "[encoded data removed]",
      "text/plain": [
       "<Figure size 864x504 with 1 Axes>"
      ]
     },
     "metadata": {
      "needs_background": "light"
     },
     "output_type": "display_data"
    }
   ],
   "source": [
    "# let's look at our best customer\n",
    "id = 14911.0\n",
    "days_since_birth = 365\n",
    "sp_trans = tx_keep_date.loc[tx_keep_date['CustomerID'] == id]\n",
    "\n",
    "pyplot.figure(figsize=(12, 7))\n",
    "plot_history_alive(bgf1, days_since_birth, sp_trans, 'InvoiceDate')\n",
    "pyplot.show()"
   ]
  },
  {
   "cell_type": "markdown",
   "metadata": {},
   "source": [
    "### Assessing model fit\n",
    "compare our data vs. simulated data with our fitted model's parameters"
   ]
  },
  {
   "cell_type": "code",
   "execution_count": 104,
   "metadata": {},
   "outputs": [
    {
     "data": {
      "text/plain": [
       "<Figure size 864x504 with 0 Axes>"
      ]
     },
     "metadata": {},
     "output_type": "display_data"
    },
    {
     "data": {
      "image/png": "[encoded data removed]",
      "text/plain": [
       "<Figure size 432x288 with 1 Axes>"
      ]
     },
     "metadata": {
      "needs_background": "light"
     },
     "output_type": "display_data"
    }
   ],
   "source": [
    "pyplot.figure(figsize=(12, 7))\n",
    "p = plot_period_transactions(bgf1, max_frequency = 10)\n",
    "pyplot.show()"
   ]
  },
  {
   "cell_type": "code",
   "execution_count": 355,
   "metadata": {},
   "outputs": [
    {
     "name": "stderr",
     "output_type": "stream",
     "text": [
      "C:\\Users\\nickp\\anaconda3\\lib\\site-packages\\pandas\\core\\series.py:679: RuntimeWarning: invalid value encountered in log\n",
      "  result = getattr(ufunc, method)(*inputs, **kwargs)\n"
     ]
    },
    {
     "data": {
      "text/plain": [
       "<matplotlib.axes._subplots.AxesSubplot at 0x137f126a0>"
      ]
     },
     "execution_count": 355,
     "metadata": {},
     "output_type": "execute_result"
    },
    {
     "data": {
      "image/png": "[encoded data removed]",
      "text/plain": [
       "<Figure size 432x288 with 1 Axes>"
      ]
     },
     "metadata": {
      "needs_background": "light"
     },
     "output_type": "display_data"
    }
   ],
   "source": [
    "# create a subset of cal_hold_df\n",
    "cal_hold_df_summary = cal_hold_df[['frequency_cal', 'recency_cal', 'T_cal', 'frequency_holdout', 'duration_holdout' ]]\n",
    "\n",
    "bgf1.fit(cal_hold_df_summary['frequency_cal'], cal_hold_df_summary['recency_cal'], cal_hold_df_summary['T_cal'])\n",
    "\n",
    "plot_calibration_purchases_vs_holdout_purchases(bgf1, cal_hold_df_summary, n=26)"
   ]
  },
  {
   "cell_type": "code",
   "execution_count": 27,
   "metadata": {},
   "outputs": [
    {
     "data": {
      "image/png": "[encoded data removed]",
      "text/plain": [
       "<Figure size 432x288 with 1 Axes>"
      ]
     },
     "metadata": {
      "needs_background": "light"
     },
     "output_type": "display_data"
    }
   ],
   "source": [
    "plot_calibration_purchases_vs_holdout_purchases\n",
    "num_purchases_cal = [0,1,2,3,4,5,6,7,8,9,10,15,20,25]\n",
    "num_purchases_hold_pred = np.array([0.38, 0.7, 1.1, 1.4, 1.7, 2.0, 2.3, 2.6, 3, 3.2, 3.6, 5, 6.8, 8.4])\n",
    "num_purchases_hold_actual = np.array([0.72, 0.92, 1.35, 1.4, 1.9, 2.25, 2.8, 3.1, 4, 4.3, 4.7, 5.9, 10.5, 8.6])\n",
    "pyplot.plot(num_purchases_cal,num_purchases_hold_pred-num_purchases_hold_actual)\n",
    "pyplot.xlabel('Purchases in calibration period')\n",
    "pyplot.ylabel('Error of model prediction')\n",
    "pyplot.show()"
   ]
  },
  {
   "cell_type": "code",
   "execution_count": 28,
   "metadata": {},
   "outputs": [
    {
     "data": {
      "text/plain": [
       "-0.09307570207570207"
      ]
     },
     "execution_count": 28,
     "metadata": {},
     "output_type": "execute_result"
    }
   ],
   "source": [
    "# Error for a given frequency in the calibration period\n",
    "np.mean((num_purchases_hold_pred[1:]-num_purchases_hold_actual[1:])/num_purchases_cal[1:])"
   ]
  },
  {
   "cell_type": "code",
   "execution_count": 29,
   "metadata": {},
   "outputs": [
    {
     "data": {
      "text/plain": [
       "-0.5832199574531242"
      ]
     },
     "execution_count": 29,
     "metadata": {},
     "output_type": "execute_result"
    }
   ],
   "source": [
    "# drop in calibration period\n",
    "(np.mean(days_from_first[:-100])-np.mean(days_from_first[-100:]))/np.mean(days_from_first[-100:])"
   ]
  },
  {
   "cell_type": "code",
   "execution_count": 30,
   "metadata": {},
   "outputs": [
    {
     "data": {
      "text/plain": [
       "-0.763076923076923"
      ]
     },
     "execution_count": 30,
     "metadata": {},
     "output_type": "execute_result"
    }
   ],
   "source": [
    "# weighted impact on total frequency\n",
    "np.mean((num_purchases_hold_pred[1:]-num_purchases_hold_actual[1:]))"
   ]
  },
  {
   "cell_type": "markdown",
   "metadata": {},
   "source": [
    "Therefore, we roughly estimate that this model underestimates the frequency in the holdout period by 9% for a fixed number of purchases in the calibration period. This is somewhat expected because we can see a spike in orders in the hold-out period compared with the calibration period. The calibration period has a frequency average 58% below the hold-out period. The weighted average of model error for each given calibration frequency indicates the overall predicted outcome is 76% below the actual frequency. This outcome is in line with the upward trend in the original data."
   ]
  },
  {
   "cell_type": "code",
   "execution_count": 31,
   "metadata": {},
   "outputs": [
    {
     "data": {
      "text/plain": [
       "-0.5832199574531242"
      ]
     },
     "execution_count": 31,
     "metadata": {},
     "output_type": "execute_result"
    }
   ],
   "source": [
    "(np.mean(days_from_first[:-100])-np.mean(days_from_first[-100:]))/np.mean(days_from_first[-100:])"
   ]
  },
  {
   "cell_type": "markdown",
   "metadata": {},
   "source": [
    "### Estimating Customer Lifetime Value using the Gamma-Gamma Model based on data from calibration period\n",
    "\n",
    "take into account the economic value of each transaction"
   ]
  },
  {
   "cell_type": "markdown",
   "metadata": {},
   "source": [
    "The Gamma-Gamma submodel assumes that there is no relationship between the monetary value and the purchase frequency. In practice we need to check whether the Pearson correlation between the two vectors is close to 0 in order to use this model."
   ]
  },
  {
   "cell_type": "code",
   "execution_count": 32,
   "metadata": {},
   "outputs": [],
   "source": [
    "# summary_with_money_value_1 df containing 'frequency_cal', 'recency_cal', 'T_cal', 'monetary_value_cal' columns \n",
    "summary_with_money_value_1 = cal_hold_df[['frequency_cal', 'recency_cal', 'T_cal', 'monetary_value_cal']]"
   ]
  },
  {
   "cell_type": "code",
   "execution_count": 33,
   "metadata": {},
   "outputs": [],
   "source": [
    "# returning_customers_summary_1 requires frequency and money value to be > 0\n",
    "# used to fit gamma-gamma model\n",
    "returning_customers_summary_1 = summary_with_money_value_1[summary_with_money_value_1['frequency_cal']>0]\n",
    "returning_customers_summary_1 = returning_customers_summary_1[returning_customers_summary_1['monetary_value_cal']>0]"
   ]
  },
  {
   "cell_type": "code",
   "execution_count": 34,
   "metadata": {},
   "outputs": [
    {
     "data": {
      "text/html": [
       "<div>\n",
       "<style scoped>\n",
       "    .dataframe tbody tr th:only-of-type {\n",
       "        vertical-align: middle;\n",
       "    }\n",
       "\n",
       "    .dataframe tbody tr th {\n",
       "        vertical-align: top;\n",
       "    }\n",
       "\n",
       "    .dataframe thead th {\n",
       "        text-align: right;\n",
       "    }\n",
       "</style>\n",
       "<table border=\"1\" class=\"dataframe\">\n",
       "  <thead>\n",
       "    <tr style=\"text-align: right;\">\n",
       "      <th></th>\n",
       "      <th>monetary_value_cal</th>\n",
       "      <th>frequency_cal</th>\n",
       "    </tr>\n",
       "  </thead>\n",
       "  <tbody>\n",
       "    <tr>\n",
       "      <th>monetary_value_cal</th>\n",
       "      <td>1.000000</td>\n",
       "      <td>0.066253</td>\n",
       "    </tr>\n",
       "    <tr>\n",
       "      <th>frequency_cal</th>\n",
       "      <td>0.066253</td>\n",
       "      <td>1.000000</td>\n",
       "    </tr>\n",
       "  </tbody>\n",
       "</table>\n",
       "</div>"
      ],
      "text/plain": [
       "                    monetary_value_cal  frequency_cal\n",
       "monetary_value_cal            1.000000       0.066253\n",
       "frequency_cal                 0.066253       1.000000"
      ]
     },
     "execution_count": 34,
     "metadata": {},
     "output_type": "execute_result"
    }
   ],
   "source": [
    "# check for independence assumption\n",
    "returning_customers_summary_1[['monetary_value_cal', 'frequency_cal']].corr()"
   ]
  },
  {
   "cell_type": "code",
   "execution_count": 35,
   "metadata": {},
   "outputs": [
    {
     "data": {
      "text/plain": [
       "<lifetimes.GammaGammaFitter: fitted with 2088 subjects, p: 2.59, q: 2.53, v: 15.88>"
      ]
     },
     "execution_count": 35,
     "metadata": {},
     "output_type": "execute_result"
    }
   ],
   "source": [
    "# train our Gamma-Gamma submodel\n",
    "\n",
    "ggf1 = GammaGammaFitter(penalizer_coef = 0)\n",
    "ggf1.fit(returning_customers_summary_1['frequency_cal'], returning_customers_summary_1['monetary_value_cal'])\n",
    "ggf1"
   ]
  },
  {
   "cell_type": "markdown",
   "metadata": {},
   "source": [
    "#### We can now estimate the average transaction value for each customer"
   ]
  },
  {
   "cell_type": "code",
   "execution_count": 36,
   "metadata": {},
   "outputs": [
    {
     "data": {
      "text/plain": [
       "CustomerID\n",
       "12346.0    26.909581\n",
       "12347.0    23.073011\n",
       "12348.0    47.144502\n",
       "12350.0    26.909581\n",
       "12352.0    14.889324\n",
       "12353.0    26.909581\n",
       "12354.0    26.909581\n",
       "12355.0    26.909581\n",
       "12356.0    40.360856\n",
       "12358.0    26.909581\n",
       "dtype: float64"
      ]
     },
     "execution_count": 36,
     "metadata": {},
     "output_type": "execute_result"
    }
   ],
   "source": [
    "# estimate the expected transaction value for each customer\n",
    "ggf1.conditional_expected_average_profit(summary_with_money_value_1['frequency_cal'], \n",
    "                                         summary_with_money_value_1['monetary_value_cal']).head(10)\n"
   ]
  },
  {
   "cell_type": "code",
   "execution_count": 37,
   "metadata": {},
   "outputs": [
    {
     "name": "stdout",
     "output_type": "stream",
     "text": [
      "Expected conditional average profit: 28.656251453648576\n",
      "\n",
      "Average profit during the calibration period:30.16072174835381\n"
     ]
    }
   ],
   "source": [
    "# compute the expected conditional average profit and the average profit \n",
    "expected_avg_profit_cal = ggf1.conditional_expected_average_profit(summary_with_money_value_1['frequency_cal'], \n",
    "                                         summary_with_money_value_1['monetary_value_cal']).mean()\n",
    "avg_profit_cal = summary_with_money_value_1[summary_with_money_value_1['frequency_cal']>0]['monetary_value_cal'].mean()\n",
    "\n",
    "print(f\"\"\"Expected conditional average profit: {expected_avg_profit_cal}\\n\n",
    "Average profit during the calibration period:{avg_profit_cal}\"\"\")\n"
   ]
  },
  {
   "cell_type": "markdown",
   "metadata": {},
   "source": [
    "#### We compute the total CLTV using DCF method adjusting for cost of capital "
   ]
  },
  {
   "cell_type": "code",
   "execution_count": 329,
   "metadata": {},
   "outputs": [
    {
     "name": "stderr",
     "output_type": "stream",
     "text": [
      "C:\\Users\\nickp\\anaconda3\\lib\\site-packages\\pandas\\core\\series.py:679: RuntimeWarning: invalid value encountered in log\n",
      "  result = getattr(ufunc, method)(*inputs, **kwargs)\n"
     ]
    }
   ],
   "source": [
    "# refit the BG model with summary_with_money_value_1\n",
    "bgf1.fit(summary_with_money_value_1['frequency_cal'], summary_with_money_value_1['recency_cal'], \n",
    "        summary_with_money_value_1['T_cal'])\n",
    "\n",
    "    \n",
    "# CLTV\n",
    "CLTV_1 = ggf1.customer_lifetime_value(bgf1, summary_with_money_value_1['frequency_cal'], \n",
    "                                     summary_with_money_value_1['recency_cal'], \n",
    "                                     summary_with_money_value_1['T_cal'], \n",
    "                                     summary_with_money_value_1['monetary_value_cal'], \n",
    "                                     time = 12,  # months\n",
    "                                     discount_rate = 0.01, # monthly discount rate\n",
    "                                     freq = 'D'\n",
    "                                    )\n"
   ]
  },
  {
   "cell_type": "code",
   "execution_count": 330,
   "metadata": {},
   "outputs": [
    {
     "data": {
      "text/plain": [
       "CustomerID\n",
       "12346.0           NaN\n",
       "12347.0    113.672959\n",
       "12348.0    124.949860\n",
       "12350.0           NaN\n",
       "12352.0     46.727364\n",
       "12353.0           NaN\n",
       "12354.0           NaN\n",
       "12355.0           NaN\n",
       "12356.0     65.015153\n",
       "12358.0           NaN\n",
       "12359.0    103.218548\n",
       "12360.0     81.888410\n",
       "12361.0           NaN\n",
       "12362.0    130.563517\n",
       "12363.0     68.671075\n",
       "12364.0           NaN\n",
       "12365.0           NaN\n",
       "12370.0     53.921010\n",
       "12372.0     46.828559\n",
       "12373.0           NaN\n",
       "Name: clv, dtype: float64"
      ]
     },
     "execution_count": 330,
     "metadata": {},
     "output_type": "execute_result"
    }
   ],
   "source": [
    "CLTV_1.head(20)"
   ]
  },
  {
   "cell_type": "code",
   "execution_count": 40,
   "metadata": {},
   "outputs": [
    {
     "data": {
      "text/html": [
       "<div>\n",
       "<style scoped>\n",
       "    .dataframe tbody tr th:only-of-type {\n",
       "        vertical-align: middle;\n",
       "    }\n",
       "\n",
       "    .dataframe tbody tr th {\n",
       "        vertical-align: top;\n",
       "    }\n",
       "\n",
       "    .dataframe thead th {\n",
       "        text-align: right;\n",
       "    }\n",
       "</style>\n",
       "<table border=\"1\" class=\"dataframe\">\n",
       "  <thead>\n",
       "    <tr style=\"text-align: right;\">\n",
       "      <th></th>\n",
       "      <th>InvoiceNo</th>\n",
       "      <th>StockCode</th>\n",
       "      <th>Description</th>\n",
       "      <th>Quantity</th>\n",
       "      <th>InvoiceDate</th>\n",
       "      <th>UnitPrice</th>\n",
       "      <th>CustomerID</th>\n",
       "      <th>Country</th>\n",
       "      <th>days_from_first</th>\n",
       "    </tr>\n",
       "  </thead>\n",
       "  <tbody>\n",
       "    <tr>\n",
       "      <th>61619</th>\n",
       "      <td>541431</td>\n",
       "      <td>23166</td>\n",
       "      <td>MEDIUM CERAMIC TOP STORAGE JAR</td>\n",
       "      <td>74215</td>\n",
       "      <td>2011-01-18</td>\n",
       "      <td>1.04</td>\n",
       "      <td>12346.0</td>\n",
       "      <td>United Kingdom</td>\n",
       "      <td>48</td>\n",
       "    </tr>\n",
       "    <tr>\n",
       "      <th>61624</th>\n",
       "      <td>C541433</td>\n",
       "      <td>23166</td>\n",
       "      <td>MEDIUM CERAMIC TOP STORAGE JAR</td>\n",
       "      <td>-74215</td>\n",
       "      <td>2011-01-18</td>\n",
       "      <td>1.04</td>\n",
       "      <td>12346.0</td>\n",
       "      <td>United Kingdom</td>\n",
       "      <td>48</td>\n",
       "    </tr>\n",
       "  </tbody>\n",
       "</table>\n",
       "</div>"
      ],
      "text/plain": [
       "      InvoiceNo StockCode                     Description  Quantity  \\\n",
       "61619    541431     23166  MEDIUM CERAMIC TOP STORAGE JAR     74215   \n",
       "61624   C541433     23166  MEDIUM CERAMIC TOP STORAGE JAR    -74215   \n",
       "\n",
       "      InvoiceDate  UnitPrice  CustomerID         Country  days_from_first  \n",
       "61619  2011-01-18       1.04     12346.0  United Kingdom               48  \n",
       "61624  2011-01-18       1.04     12346.0  United Kingdom               48  "
      ]
     },
     "execution_count": 40,
     "metadata": {},
     "output_type": "execute_result"
    }
   ],
   "source": [
    "# Let's take a look at some of these customers who has NaN customer lifetime values\n",
    "# id can be changed below to view different customers\n",
    "\n",
    "id2 = 12346.0\n",
    "tx_keep_date[tx_keep_date[\"CustomerID\"]==id2]"
   ]
  },
  {
   "cell_type": "code",
   "execution_count": 41,
   "metadata": {},
   "outputs": [
    {
     "data": {
      "text/plain": [
       "frequency_cal           0.0\n",
       "recency_cal             0.0\n",
       "T_cal                 225.0\n",
       "monetary_value_cal      0.0\n",
       "Name: 12346.0, dtype: float64"
      ]
     },
     "execution_count": 41,
     "metadata": {},
     "output_type": "execute_result"
    }
   ],
   "source": [
    "summary_with_money_value_1.loc[id2]"
   ]
  },
  {
   "cell_type": "code",
   "execution_count": 42,
   "metadata": {},
   "outputs": [
    {
     "data": {
      "text/plain": [
       "CustomerID\n",
       "15189.0     2433.605481\n",
       "13631.0     2528.444154\n",
       "15061.0     2987.333926\n",
       "13694.0     3101.139053\n",
       "17381.0     3112.226765\n",
       "12931.0     3236.021335\n",
       "13798.0     3266.504278\n",
       "17723.0     3382.056111\n",
       "12901.0     3484.539594\n",
       "12980.0     3504.488848\n",
       "16333.0     4292.150423\n",
       "14646.0     4388.858836\n",
       "16422.0     4902.089077\n",
       "16013.0     5743.126074\n",
       "17857.0     5961.706626\n",
       "16029.0     6772.331468\n",
       "15769.0     8063.633669\n",
       "17450.0     8328.772930\n",
       "18102.0    12645.904982\n",
       "17949.0    14039.908075\n",
       "Name: clv, dtype: float64"
      ]
     },
     "execution_count": 42,
     "metadata": {},
     "output_type": "execute_result"
    }
   ],
   "source": [
    "# customers with highest CLTVs\n",
    "CLTV_1.sort_values(na_position=\"first\").tail(20)"
   ]
  },
  {
   "cell_type": "code",
   "execution_count": 43,
   "metadata": {},
   "outputs": [
    {
     "data": {
      "text/html": [
       "<div>\n",
       "<style scoped>\n",
       "    .dataframe tbody tr th:only-of-type {\n",
       "        vertical-align: middle;\n",
       "    }\n",
       "\n",
       "    .dataframe tbody tr th {\n",
       "        vertical-align: top;\n",
       "    }\n",
       "\n",
       "    .dataframe thead th {\n",
       "        text-align: right;\n",
       "    }\n",
       "</style>\n",
       "<table border=\"1\" class=\"dataframe\">\n",
       "  <thead>\n",
       "    <tr style=\"text-align: right;\">\n",
       "      <th></th>\n",
       "      <th>InvoiceNo</th>\n",
       "      <th>StockCode</th>\n",
       "      <th>Description</th>\n",
       "      <th>Quantity</th>\n",
       "      <th>InvoiceDate</th>\n",
       "      <th>UnitPrice</th>\n",
       "      <th>CustomerID</th>\n",
       "      <th>Country</th>\n",
       "      <th>days_from_first</th>\n",
       "    </tr>\n",
       "  </thead>\n",
       "  <tbody>\n",
       "    <tr>\n",
       "      <th>6607</th>\n",
       "      <td>536970</td>\n",
       "      <td>22423</td>\n",
       "      <td>REGENCY CAKESTAND 3 TIER</td>\n",
       "      <td>120</td>\n",
       "      <td>2010-12-03</td>\n",
       "      <td>10.95</td>\n",
       "      <td>17949.0</td>\n",
       "      <td>United Kingdom</td>\n",
       "      <td>2</td>\n",
       "    </tr>\n",
       "    <tr>\n",
       "      <th>45492</th>\n",
       "      <td>540264</td>\n",
       "      <td>22197</td>\n",
       "      <td>SMALL POPCORN HOLDER</td>\n",
       "      <td>600</td>\n",
       "      <td>2011-01-06</td>\n",
       "      <td>0.72</td>\n",
       "      <td>17949.0</td>\n",
       "      <td>United Kingdom</td>\n",
       "      <td>36</td>\n",
       "    </tr>\n",
       "    <tr>\n",
       "      <th>99110</th>\n",
       "      <td>544698</td>\n",
       "      <td>22197</td>\n",
       "      <td>SMALL POPCORN HOLDER</td>\n",
       "      <td>360</td>\n",
       "      <td>2011-02-23</td>\n",
       "      <td>0.72</td>\n",
       "      <td>17949.0</td>\n",
       "      <td>United Kingdom</td>\n",
       "      <td>84</td>\n",
       "    </tr>\n",
       "    <tr>\n",
       "      <th>99111</th>\n",
       "      <td>544699</td>\n",
       "      <td>22197</td>\n",
       "      <td>SMALL POPCORN HOLDER</td>\n",
       "      <td>240</td>\n",
       "      <td>2011-02-23</td>\n",
       "      <td>0.72</td>\n",
       "      <td>17949.0</td>\n",
       "      <td>United Kingdom</td>\n",
       "      <td>84</td>\n",
       "    </tr>\n",
       "    <tr>\n",
       "      <th>106784</th>\n",
       "      <td>545341</td>\n",
       "      <td>22423</td>\n",
       "      <td>REGENCY CAKESTAND 3 TIER</td>\n",
       "      <td>150</td>\n",
       "      <td>2011-03-02</td>\n",
       "      <td>10.95</td>\n",
       "      <td>17949.0</td>\n",
       "      <td>United Kingdom</td>\n",
       "      <td>91</td>\n",
       "    </tr>\n",
       "    <tr>\n",
       "      <th>...</th>\n",
       "      <td>...</td>\n",
       "      <td>...</td>\n",
       "      <td>...</td>\n",
       "      <td>...</td>\n",
       "      <td>...</td>\n",
       "      <td>...</td>\n",
       "      <td>...</td>\n",
       "      <td>...</td>\n",
       "      <td>...</td>\n",
       "    </tr>\n",
       "    <tr>\n",
       "      <th>519822</th>\n",
       "      <td>580170</td>\n",
       "      <td>22197</td>\n",
       "      <td>POPCORN HOLDER</td>\n",
       "      <td>1000</td>\n",
       "      <td>2011-12-02</td>\n",
       "      <td>0.72</td>\n",
       "      <td>17949.0</td>\n",
       "      <td>United Kingdom</td>\n",
       "      <td>366</td>\n",
       "    </tr>\n",
       "    <tr>\n",
       "      <th>519823</th>\n",
       "      <td>C580171</td>\n",
       "      <td>23108</td>\n",
       "      <td>SET OF 10 LED DOLLY LIGHTS</td>\n",
       "      <td>-24</td>\n",
       "      <td>2011-12-02</td>\n",
       "      <td>3.39</td>\n",
       "      <td>17949.0</td>\n",
       "      <td>United Kingdom</td>\n",
       "      <td>366</td>\n",
       "    </tr>\n",
       "    <tr>\n",
       "      <th>519824</th>\n",
       "      <td>580172</td>\n",
       "      <td>23108</td>\n",
       "      <td>SET OF 10 LED DOLLY LIGHTS</td>\n",
       "      <td>24</td>\n",
       "      <td>2011-12-02</td>\n",
       "      <td>5.39</td>\n",
       "      <td>17949.0</td>\n",
       "      <td>United Kingdom</td>\n",
       "      <td>366</td>\n",
       "    </tr>\n",
       "    <tr>\n",
       "      <th>540070</th>\n",
       "      <td>581458</td>\n",
       "      <td>22197</td>\n",
       "      <td>POPCORN HOLDER</td>\n",
       "      <td>1500</td>\n",
       "      <td>2011-12-08</td>\n",
       "      <td>0.72</td>\n",
       "      <td>17949.0</td>\n",
       "      <td>United Kingdom</td>\n",
       "      <td>372</td>\n",
       "    </tr>\n",
       "    <tr>\n",
       "      <th>540071</th>\n",
       "      <td>581459</td>\n",
       "      <td>22197</td>\n",
       "      <td>POPCORN HOLDER</td>\n",
       "      <td>1200</td>\n",
       "      <td>2011-12-08</td>\n",
       "      <td>0.72</td>\n",
       "      <td>17949.0</td>\n",
       "      <td>United Kingdom</td>\n",
       "      <td>372</td>\n",
       "    </tr>\n",
       "  </tbody>\n",
       "</table>\n",
       "<p>79 rows × 9 columns</p>\n",
       "</div>"
      ],
      "text/plain": [
       "       InvoiceNo StockCode                 Description  Quantity InvoiceDate  \\\n",
       "6607      536970     22423    REGENCY CAKESTAND 3 TIER       120  2010-12-03   \n",
       "45492     540264     22197        SMALL POPCORN HOLDER       600  2011-01-06   \n",
       "99110     544698     22197        SMALL POPCORN HOLDER       360  2011-02-23   \n",
       "99111     544699     22197        SMALL POPCORN HOLDER       240  2011-02-23   \n",
       "106784    545341     22423    REGENCY CAKESTAND 3 TIER       150  2011-03-02   \n",
       "...          ...       ...                         ...       ...         ...   \n",
       "519822    580170     22197              POPCORN HOLDER      1000  2011-12-02   \n",
       "519823   C580171     23108  SET OF 10 LED DOLLY LIGHTS       -24  2011-12-02   \n",
       "519824    580172     23108  SET OF 10 LED DOLLY LIGHTS        24  2011-12-02   \n",
       "540070    581458     22197              POPCORN HOLDER      1500  2011-12-08   \n",
       "540071    581459     22197              POPCORN HOLDER      1200  2011-12-08   \n",
       "\n",
       "        UnitPrice  CustomerID         Country  days_from_first  \n",
       "6607        10.95     17949.0  United Kingdom                2  \n",
       "45492        0.72     17949.0  United Kingdom               36  \n",
       "99110        0.72     17949.0  United Kingdom               84  \n",
       "99111        0.72     17949.0  United Kingdom               84  \n",
       "106784      10.95     17949.0  United Kingdom               91  \n",
       "...           ...         ...             ...              ...  \n",
       "519822       0.72     17949.0  United Kingdom              366  \n",
       "519823       3.39     17949.0  United Kingdom              366  \n",
       "519824       5.39     17949.0  United Kingdom              366  \n",
       "540070       0.72     17949.0  United Kingdom              372  \n",
       "540071       0.72     17949.0  United Kingdom              372  \n",
       "\n",
       "[79 rows x 9 columns]"
      ]
     },
     "execution_count": 43,
     "metadata": {},
     "output_type": "execute_result"
    }
   ],
   "source": [
    "# let's take a look at the customer with the highest CLTV\n",
    "\n",
    "id3 = 17949.0 \n",
    "tx_keep_date[tx_keep_date[\"CustomerID\"]==id3]"
   ]
  },
  {
   "cell_type": "code",
   "execution_count": 44,
   "metadata": {},
   "outputs": [
    {
     "data": {
      "text/plain": [
       "frequency_cal          19.000000\n",
       "recency_cal           271.000000\n",
       "T_cal                 271.000000\n",
       "monetary_value_cal    703.723158\n",
       "Name: 17949.0, dtype: float64"
      ]
     },
     "execution_count": 44,
     "metadata": {},
     "output_type": "execute_result"
    }
   ],
   "source": [
    "summary_with_money_value_1.loc[id3]"
   ]
  },
  {
   "cell_type": "markdown",
   "metadata": {},
   "source": [
    "### [ new: 12/5 ] an attempt to evaluate CLTV model"
   ]
  },
  {
   "cell_type": "code",
   "execution_count": 356,
   "metadata": {},
   "outputs": [
    {
     "name": "stderr",
     "output_type": "stream",
     "text": [
      "/opt/anaconda3/lib/python3.8/site-packages/pandas/core/series.py:679: RuntimeWarning: invalid value encountered in log\n",
      "  result = getattr(ufunc, method)(*inputs, **kwargs)\n"
     ]
    }
   ],
   "source": [
    "# predict CLTV for the next 100 days - the length of our holdout period - which is roughly 3.3 months\n",
    "# for easy comparison, we don't take into account discount rate\n",
    "\n",
    "bgf1.fit(summary_with_money_value_1['frequency_cal'], summary_with_money_value_1['recency_cal'], \n",
    "        summary_with_money_value_1['T_cal'])\n",
    "\n",
    "CLTV_holdout = ggf1.customer_lifetime_value(bgf1, summary_with_money_value_1['frequency_cal'], \n",
    "                                     summary_with_money_value_1['recency_cal'], \n",
    "                                     summary_with_money_value_1['T_cal'], \n",
    "                                     summary_with_money_value_1['monetary_value_cal'], \n",
    "                                     time = 3.3,  # months\n",
    "                                     discount_rate = 0.0, # monthly discount rate\n",
    "                                     freq = 'D'\n",
    "                                    )"
   ]
  },
  {
   "cell_type": "code",
   "execution_count": 357,
   "metadata": {},
   "outputs": [
    {
     "data": {
      "text/plain": [
       "CustomerID\n",
       "12346.0     8.422960\n",
       "12347.0    40.708803\n",
       "12348.0    44.805631\n",
       "12350.0     8.901372\n",
       "12352.0    16.763364\n",
       "             ...    \n",
       "18280.0    10.173543\n",
       "18281.0    17.585498\n",
       "18282.0    41.723936\n",
       "18283.0    13.843294\n",
       "18287.0    15.183790\n",
       "Name: clv, Length: 3308, dtype: float64"
      ]
     },
     "execution_count": 357,
     "metadata": {},
     "output_type": "execute_result"
    }
   ],
   "source": [
    "CLTV_holdout"
   ]
  },
  {
   "cell_type": "code",
   "execution_count": 358,
   "metadata": {},
   "outputs": [
    {
     "data": {
      "text/html": [
       "<div>\n",
       "<style scoped>\n",
       "    .dataframe tbody tr th:only-of-type {\n",
       "        vertical-align: middle;\n",
       "    }\n",
       "\n",
       "    .dataframe tbody tr th {\n",
       "        vertical-align: top;\n",
       "    }\n",
       "\n",
       "    .dataframe thead th {\n",
       "        text-align: right;\n",
       "    }\n",
       "</style>\n",
       "<table border=\"1\" class=\"dataframe\">\n",
       "  <thead>\n",
       "    <tr style=\"text-align: right;\">\n",
       "      <th></th>\n",
       "      <th>CLTV</th>\n",
       "      <th>total_value_holdout</th>\n",
       "      <th>Difference</th>\n",
       "    </tr>\n",
       "  </thead>\n",
       "  <tbody>\n",
       "    <tr>\n",
       "      <th>count</th>\n",
       "      <td>2980.000000</td>\n",
       "      <td>2980.000000</td>\n",
       "      <td>2980.000000</td>\n",
       "    </tr>\n",
       "    <tr>\n",
       "      <th>mean</th>\n",
       "      <td>54.545056</td>\n",
       "      <td>879.372151</td>\n",
       "      <td>824.827095</td>\n",
       "    </tr>\n",
       "    <tr>\n",
       "      <th>std</th>\n",
       "      <td>193.689503</td>\n",
       "      <td>4260.263611</td>\n",
       "      <td>4137.431654</td>\n",
       "    </tr>\n",
       "    <tr>\n",
       "      <th>min</th>\n",
       "      <td>3.413531</td>\n",
       "      <td>0.000000</td>\n",
       "      <td>-1254.143570</td>\n",
       "    </tr>\n",
       "    <tr>\n",
       "      <th>25%</th>\n",
       "      <td>11.192503</td>\n",
       "      <td>0.000000</td>\n",
       "      <td>-11.042506</td>\n",
       "    </tr>\n",
       "    <tr>\n",
       "      <th>50%</th>\n",
       "      <td>18.583511</td>\n",
       "      <td>229.980000</td>\n",
       "      <td>201.653012</td>\n",
       "    </tr>\n",
       "    <tr>\n",
       "      <th>75%</th>\n",
       "      <td>42.910092</td>\n",
       "      <td>775.227500</td>\n",
       "      <td>736.095501</td>\n",
       "    </tr>\n",
       "    <tr>\n",
       "      <th>max</th>\n",
       "      <td>5022.375070</td>\n",
       "      <td>129120.070000</td>\n",
       "      <td>124595.736741</td>\n",
       "    </tr>\n",
       "  </tbody>\n",
       "</table>\n",
       "</div>"
      ],
      "text/plain": [
       "              CLTV  total_value_holdout     Difference\n",
       "count  2980.000000          2980.000000    2980.000000\n",
       "mean     54.545056           879.372151     824.827095\n",
       "std     193.689503          4260.263611    4137.431654\n",
       "min       3.413531             0.000000   -1254.143570\n",
       "25%      11.192503             0.000000     -11.042506\n",
       "50%      18.583511           229.980000     201.653012\n",
       "75%      42.910092           775.227500     736.095501\n",
       "max    5022.375070        129120.070000  124595.736741"
      ]
     },
     "execution_count": 358,
     "metadata": {},
     "output_type": "execute_result"
    }
   ],
   "source": [
    "# compare CLTV prediction to total_value_holdout\n",
    "\n",
    "CLTV_total_value_holdout = CLTV_holdout.to_frame()\n",
    "CLTV_total_value_holdout = CLTV_total_value_holdout.rename(columns = {'clv':'CLTV'})\n",
    "CLTV_total_value_holdout = CLTV_total_value_holdout.join(cal_hold_df['total_value_holdout'], how = 'left')\n",
    "CLTV_total_value_holdout['Difference'] = CLTV_total_value_holdout['total_value_holdout'] - CLTV_total_value_holdout['CLTV']\n",
    "CLTV_total_value_holdout = CLTV_total_value_holdout.dropna()\n",
    "CLTV_total_value_holdout.describe()\n"
   ]
  },
  {
   "cell_type": "code",
   "execution_count": 360,
   "metadata": {},
   "outputs": [
    {
     "data": {
      "text/plain": [
       "17792936.01854308"
      ]
     },
     "execution_count": 360,
     "metadata": {},
     "output_type": "execute_result"
    }
   ],
   "source": [
    "# compute MSE\n",
    "MSE = sum((CLTV_total_value_holdout['Difference']) ** 2) / 2980\n",
    "MSE"
   ]
  },
  {
   "cell_type": "code",
   "execution_count": 363,
   "metadata": {},
   "outputs": [
    {
     "data": {
      "image/png": "[encoded data removed]",
      "text/plain": [
       "<Figure size 720x288 with 1 Axes>"
      ]
     },
     "metadata": {
      "needs_background": "light"
     },
     "output_type": "display_data"
    }
   ],
   "source": [
    "# plot (Total_value_holdout - CLTV prediction) for each customer\n",
    "# from this graph we can see that overall, our model underestimates the CLTV \n",
    "\n",
    "pyplot.figure(figsize=(10, 4))\n",
    "pyplot.scatter(range(0, 2980), CLTV_total_value_holdout['Difference'])\n",
    "pyplot.xlabel('Customers')\n",
    "pyplot.ylabel('Total_value_holdout - CLTV prediction')\n",
    "pyplot.show()"
   ]
  },
  {
   "cell_type": "markdown",
   "metadata": {},
   "source": [
    "### [ new: 12/5 ] visualization/summary of CLTV, explore relationship between frequency/monetary value and CLTV prediction\n",
    "\n",
    "based on CLTV prediction for the next 12 months"
   ]
  },
  {
   "cell_type": "code",
   "execution_count": 321,
   "metadata": {},
   "outputs": [
    {
     "data": {
      "text/plain": [
       "count     2089.000000\n",
       "mean       203.871302\n",
       "std        639.543152\n",
       "min          9.504205\n",
       "25%         47.726996\n",
       "50%         83.888101\n",
       "75%        158.860695\n",
       "max      14039.908075\n",
       "Name: clv, dtype: float64"
      ]
     },
     "execution_count": 321,
     "metadata": {},
     "output_type": "execute_result"
    }
   ],
   "source": [
    "# drop na values\n",
    "CLTV_1_clean = CLTV_1.dropna()\n",
    "\n",
    "# describe the data\n",
    "CLTV_1_clean.describe()"
   ]
  },
  {
   "cell_type": "code",
   "execution_count": 314,
   "metadata": {},
   "outputs": [
    {
     "data": {
      "text/plain": [
       "425887.1488380497"
      ]
     },
     "execution_count": 314,
     "metadata": {},
     "output_type": "execute_result"
    }
   ],
   "source": [
    "# sum over all CLTV (for the next 12 months period) to evaluate our company?\n",
    "sum(CLTV_1_clean)"
   ]
  },
  {
   "cell_type": "code",
   "execution_count": 323,
   "metadata": {},
   "outputs": [
    {
     "data": {
      "image/png": "[encoded data removed]",
      "text/plain": [
       "<Figure size 432x288 with 1 Axes>"
      ]
     },
     "metadata": {
      "needs_background": "light"
     },
     "output_type": "display_data"
    }
   ],
   "source": [
    "# plot distribution of CLTV\n",
    "\n",
    "pyplot.hist(CLTV_1_clean, bins = 50)\n",
    "pyplot.xlabel('CLTV prediction')\n",
    "pyplot.ylabel('Number of Customers')\n",
    "pyplot.title('CLTV prediction distribution')\n",
    "pyplot.show()"
   ]
  },
  {
   "cell_type": "code",
   "execution_count": 251,
   "metadata": {},
   "outputs": [
    {
     "data": {
      "image/png": "[encoded data removed]",
      "text/plain": [
       "<Figure size 432x288 with 1 Axes>"
      ]
     },
     "metadata": {
      "needs_background": "light"
     },
     "output_type": "display_data"
    }
   ],
   "source": [
    "# the first 75th percentile is 158.860695\n",
    "# zoom in and look at the first 75th percentile\n",
    "pyplot.hist(CLTV_1_clean.sort_values(na_position=\"last\").head(1566), bins = 50)\n",
    "pyplot.xlabel('CLTV prediction')\n",
    "pyplot.ylabel('Number of Customers')\n",
    "pyplot.title('CLTV prediction distribution - first 75th percentile')\n",
    "pyplot.show()"
   ]
  },
  {
   "cell_type": "code",
   "execution_count": 237,
   "metadata": {},
   "outputs": [
    {
     "data": {
      "text/html": [
       "<div>\n",
       "<style scoped>\n",
       "    .dataframe tbody tr th:only-of-type {\n",
       "        vertical-align: middle;\n",
       "    }\n",
       "\n",
       "    .dataframe tbody tr th {\n",
       "        vertical-align: top;\n",
       "    }\n",
       "\n",
       "    .dataframe thead th {\n",
       "        text-align: right;\n",
       "    }\n",
       "</style>\n",
       "<table border=\"1\" class=\"dataframe\">\n",
       "  <thead>\n",
       "    <tr style=\"text-align: right;\">\n",
       "      <th></th>\n",
       "      <th>CLTV</th>\n",
       "      <th>frequency_cal</th>\n",
       "      <th>recency_cal</th>\n",
       "      <th>T_cal</th>\n",
       "      <th>monetary_value_cal</th>\n",
       "    </tr>\n",
       "  </thead>\n",
       "  <tbody>\n",
       "    <tr>\n",
       "      <th>count</th>\n",
       "      <td>2089.000000</td>\n",
       "      <td>2089.000000</td>\n",
       "      <td>2089.000000</td>\n",
       "      <td>2089.000000</td>\n",
       "      <td>2089.000000</td>\n",
       "    </tr>\n",
       "    <tr>\n",
       "      <th>mean</th>\n",
       "      <td>203.871302</td>\n",
       "      <td>4.162757</td>\n",
       "      <td>138.401149</td>\n",
       "      <td>200.777405</td>\n",
       "      <td>30.160722</td>\n",
       "    </tr>\n",
       "    <tr>\n",
       "      <th>std</th>\n",
       "      <td>639.543152</td>\n",
       "      <td>5.882252</td>\n",
       "      <td>80.997753</td>\n",
       "      <td>66.661298</td>\n",
       "      <td>67.943346</td>\n",
       "    </tr>\n",
       "    <tr>\n",
       "      <th>min</th>\n",
       "      <td>9.504205</td>\n",
       "      <td>1.000000</td>\n",
       "      <td>1.000000</td>\n",
       "      <td>5.000000</td>\n",
       "      <td>0.000000</td>\n",
       "    </tr>\n",
       "    <tr>\n",
       "      <th>25%</th>\n",
       "      <td>47.726996</td>\n",
       "      <td>1.000000</td>\n",
       "      <td>71.000000</td>\n",
       "      <td>156.000000</td>\n",
       "      <td>12.359895</td>\n",
       "    </tr>\n",
       "    <tr>\n",
       "      <th>50%</th>\n",
       "      <td>83.888101</td>\n",
       "      <td>2.000000</td>\n",
       "      <td>139.000000</td>\n",
       "      <td>216.000000</td>\n",
       "      <td>17.193421</td>\n",
       "    </tr>\n",
       "    <tr>\n",
       "      <th>75%</th>\n",
       "      <td>158.860695</td>\n",
       "      <td>5.000000</td>\n",
       "      <td>208.000000</td>\n",
       "      <td>264.000000</td>\n",
       "      <td>24.437188</td>\n",
       "    </tr>\n",
       "    <tr>\n",
       "      <th>max</th>\n",
       "      <td>14039.908075</td>\n",
       "      <td>89.000000</td>\n",
       "      <td>273.000000</td>\n",
       "      <td>273.000000</td>\n",
       "      <td>1505.600000</td>\n",
       "    </tr>\n",
       "  </tbody>\n",
       "</table>\n",
       "</div>"
      ],
      "text/plain": [
       "               CLTV  frequency_cal  recency_cal        T_cal  \\\n",
       "count   2089.000000    2089.000000  2089.000000  2089.000000   \n",
       "mean     203.871302       4.162757   138.401149   200.777405   \n",
       "std      639.543152       5.882252    80.997753    66.661298   \n",
       "min        9.504205       1.000000     1.000000     5.000000   \n",
       "25%       47.726996       1.000000    71.000000   156.000000   \n",
       "50%       83.888101       2.000000   139.000000   216.000000   \n",
       "75%      158.860695       5.000000   208.000000   264.000000   \n",
       "max    14039.908075      89.000000   273.000000   273.000000   \n",
       "\n",
       "       monetary_value_cal  \n",
       "count         2089.000000  \n",
       "mean            30.160722  \n",
       "std             67.943346  \n",
       "min              0.000000  \n",
       "25%             12.359895  \n",
       "50%             17.193421  \n",
       "75%             24.437188  \n",
       "max           1505.600000  "
      ]
     },
     "execution_count": 237,
     "metadata": {},
     "output_type": "execute_result"
    }
   ],
   "source": [
    "# join CLTV table with summary_with_money_value_1 table\n",
    "summary_with_CLTV = CLTV_1_clean.to_frame()\n",
    "summary_with_CLTV = summary_with_CLTV.rename(columns = {'clv':'CLTV'})\n",
    "summary_with_CLTV = summary_with_CLTV.join(summary_with_money_value_1, how = 'left')\n",
    "summary_with_CLTV.describe()"
   ]
  },
  {
   "cell_type": "code",
   "execution_count": 283,
   "metadata": {},
   "outputs": [
    {
     "data": {
      "image/png": "[encoded data removed]",
      "text/plain": [
       "<Figure size 864x288 with 1 Axes>"
      ]
     },
     "metadata": {
      "needs_background": "light"
     },
     "output_type": "display_data"
    }
   ],
   "source": [
    "# plot CLTV against frequency and fit a regression line\n",
    "# let CLTV <= 200 to cut off outliers and make the graph look nicer\n",
    "\n",
    "f_CLTV = summary_with_CLTV[['frequency_cal', 'CLTV']]\n",
    "f_CLTV = f_CLTV[(f_CLTV['CLTV'] <= 200) & \n",
    "                (f_CLTV['frequency_cal'] <= 20)]\n",
    "\n",
    "pyplot.figure(figsize=(12, 4))\n",
    "pyplot.scatter(f_CLTV['frequency_cal'], f_CLTV['CLTV'])\n",
    "\n",
    "m, b = np.polyfit(f_CLTV['frequency_cal'], f_CLTV['CLTV'], 1)\n",
    "pyplot.plot(f_CLTV['frequency_cal'], m*f_CLTV['frequency_cal'] + b, color='r')\n",
    "\n",
    "pyplot.xlabel('frequency_cal')\n",
    "pyplot.ylabel('CLTV')\n",
    "pyplot.show()"
   ]
  },
  {
   "cell_type": "code",
   "execution_count": 284,
   "metadata": {},
   "outputs": [
    {
     "data": {
      "image/png": "[encoded data removed]",
      "text/plain": [
       "<Figure size 864x288 with 1 Axes>"
      ]
     },
     "metadata": {
      "needs_background": "light"
     },
     "output_type": "display_data"
    }
   ],
   "source": [
    "# plot CLTV against monetary_value_cal\n",
    "# let monetary value <= 40 and CLTV <= 200 to make the graph look nicer\n",
    "\n",
    "m_CLTV = summary_with_CLTV[['CLTV', 'monetary_value_cal']]\n",
    "m_CLTV = m_CLTV[(m_CLTV['monetary_value_cal'] <= 40) &\n",
    "                (m_CLTV['CLTV'] <= 200)]\n",
    "\n",
    "pyplot.figure(figsize=(12, 4))\n",
    "pyplot.scatter(m_CLTV['monetary_value_cal'], m_CLTV['CLTV'])\n",
    "\n",
    "m, b = np.polyfit(m_CLTV['monetary_value_cal'], m_CLTV['CLTV'], 1)\n",
    "pyplot.plot(m_CLTV['monetary_value_cal'], m*m_CLTV['monetary_value_cal'] + b, color='r')\n",
    "\n",
    "pyplot.xlabel('monetary_value_cal')\n",
    "pyplot.ylabel('CLTV')\n",
    "pyplot.show()"
   ]
  },
  {
   "cell_type": "code",
   "execution_count": 268,
   "metadata": {},
   "outputs": [
    {
     "data": {
      "text/plain": [
       "<seaborn.axisgrid.FacetGrid at 0x132e223a0>"
      ]
     },
     "execution_count": 268,
     "metadata": {},
     "output_type": "execute_result"
    },
    {
     "data": {
      "text/plain": [
       "<Figure size 864x288 with 0 Axes>"
      ]
     },
     "metadata": {},
     "output_type": "display_data"
    },
    {
     "data": {
      "image/png": "[encoded data removed]",
      "text/plain": [
       "<Figure size 720x360 with 1 Axes>"
      ]
     },
     "metadata": {
      "needs_background": "light"
     },
     "output_type": "display_data"
    }
   ],
   "source": [
    "# let monetary value <= 40 and CLTV <= 200 to make the graph look nicer\n",
    "# x-axis = frequency\n",
    "# y-axis = monetary value\n",
    "# the darker the color, the higher the CLTV\n",
    "\n",
    "f_m_CLTV = summary_with_CLTV[['CLTV', 'monetary_value_cal', 'frequency_cal']]\n",
    "f_m_CLTV = f_m_CLTV[(f_m_CLTV['CLTV'] <= 200) &\n",
    "                    (f_m_CLTV['monetary_value_cal'] <= 40)]\n",
    "\n",
    "sns.lmplot(x='frequency_cal', \n",
    "           y='monetary_value_cal', \n",
    "           data=f_m_CLTV, \n",
    "           fit_reg=False, \n",
    "           hue='CLTV', \n",
    "           legend=False, \n",
    "           palette=\"GnBu\", \n",
    "           aspect=2)"
   ]
  },
  {
   "cell_type": "markdown",
   "metadata": {},
   "source": [
    "### [ updated: 12/5 ] Show the benefit of targeting \"dying\" customers with email marketing/coupon"
   ]
  },
  {
   "cell_type": "code",
   "execution_count": 122,
   "metadata": {},
   "outputs": [
    {
     "data": {
      "text/html": [
       "<div>\n",
       "<style scoped>\n",
       "    .dataframe tbody tr th:only-of-type {\n",
       "        vertical-align: middle;\n",
       "    }\n",
       "\n",
       "    .dataframe tbody tr th {\n",
       "        vertical-align: top;\n",
       "    }\n",
       "\n",
       "    .dataframe thead th {\n",
       "        text-align: right;\n",
       "    }\n",
       "</style>\n",
       "<table border=\"1\" class=\"dataframe\">\n",
       "  <thead>\n",
       "    <tr style=\"text-align: right;\">\n",
       "      <th></th>\n",
       "      <th>total_value_cal</th>\n",
       "      <th>first_within_cal</th>\n",
       "      <th>latest_within_cal</th>\n",
       "      <th>monetary_value_cal</th>\n",
       "      <th>frequency_cal</th>\n",
       "      <th>recency_cal</th>\n",
       "      <th>T_cal</th>\n",
       "      <th>frequency_holdout</th>\n",
       "      <th>total_value_holdout</th>\n",
       "      <th>monetary_value_holdout</th>\n",
       "      <th>duration_holdout</th>\n",
       "    </tr>\n",
       "    <tr>\n",
       "      <th>CustomerID</th>\n",
       "      <th></th>\n",
       "      <th></th>\n",
       "      <th></th>\n",
       "      <th></th>\n",
       "      <th></th>\n",
       "      <th></th>\n",
       "      <th></th>\n",
       "      <th></th>\n",
       "      <th></th>\n",
       "      <th></th>\n",
       "      <th></th>\n",
       "    </tr>\n",
       "  </thead>\n",
       "  <tbody>\n",
       "    <tr>\n",
       "      <th>12381.0</th>\n",
       "      <td>1227.39</td>\n",
       "      <td>2011-08-12</td>\n",
       "      <td>2011-08-31</td>\n",
       "      <td>18.596818</td>\n",
       "      <td>1</td>\n",
       "      <td>19.0</td>\n",
       "      <td>19.0</td>\n",
       "      <td>3</td>\n",
       "      <td>576.57</td>\n",
       "      <td>23.062800</td>\n",
       "      <td>100</td>\n",
       "    </tr>\n",
       "    <tr>\n",
       "      <th>12423.0</th>\n",
       "      <td>1650.67</td>\n",
       "      <td>2010-12-21</td>\n",
       "      <td>2011-08-31</td>\n",
       "      <td>15.283981</td>\n",
       "      <td>6</td>\n",
       "      <td>253.0</td>\n",
       "      <td>253.0</td>\n",
       "      <td>1</td>\n",
       "      <td>198.44</td>\n",
       "      <td>11.024444</td>\n",
       "      <td>100</td>\n",
       "    </tr>\n",
       "    <tr>\n",
       "      <th>12477.0</th>\n",
       "      <td>8824.48</td>\n",
       "      <td>2011-02-01</td>\n",
       "      <td>2011-08-31</td>\n",
       "      <td>43.257255</td>\n",
       "      <td>4</td>\n",
       "      <td>211.0</td>\n",
       "      <td>211.0</td>\n",
       "      <td>3</td>\n",
       "      <td>4292.53</td>\n",
       "      <td>41.274327</td>\n",
       "      <td>100</td>\n",
       "    </tr>\n",
       "    <tr>\n",
       "      <th>12484.0</th>\n",
       "      <td>3626.65</td>\n",
       "      <td>2011-01-07</td>\n",
       "      <td>2011-08-31</td>\n",
       "      <td>12.725088</td>\n",
       "      <td>4</td>\n",
       "      <td>236.0</td>\n",
       "      <td>236.0</td>\n",
       "      <td>2</td>\n",
       "      <td>868.62</td>\n",
       "      <td>13.363385</td>\n",
       "      <td>100</td>\n",
       "    </tr>\n",
       "    <tr>\n",
       "      <th>12490.0</th>\n",
       "      <td>2516.77</td>\n",
       "      <td>2011-01-14</td>\n",
       "      <td>2011-08-31</td>\n",
       "      <td>20.461545</td>\n",
       "      <td>4</td>\n",
       "      <td>229.0</td>\n",
       "      <td>229.0</td>\n",
       "      <td>4</td>\n",
       "      <td>2901.16</td>\n",
       "      <td>23.780000</td>\n",
       "      <td>100</td>\n",
       "    </tr>\n",
       "    <tr>\n",
       "      <th>...</th>\n",
       "      <td>...</td>\n",
       "      <td>...</td>\n",
       "      <td>...</td>\n",
       "      <td>...</td>\n",
       "      <td>...</td>\n",
       "      <td>...</td>\n",
       "      <td>...</td>\n",
       "      <td>...</td>\n",
       "      <td>...</td>\n",
       "      <td>...</td>\n",
       "      <td>...</td>\n",
       "    </tr>\n",
       "    <tr>\n",
       "      <th>17865.0</th>\n",
       "      <td>6749.06</td>\n",
       "      <td>2010-12-10</td>\n",
       "      <td>2011-08-31</td>\n",
       "      <td>24.812721</td>\n",
       "      <td>14</td>\n",
       "      <td>264.0</td>\n",
       "      <td>264.0</td>\n",
       "      <td>6</td>\n",
       "      <td>3409.48</td>\n",
       "      <td>29.140855</td>\n",
       "      <td>100</td>\n",
       "    </tr>\n",
       "    <tr>\n",
       "      <th>17949.0</th>\n",
       "      <td>40112.22</td>\n",
       "      <td>2010-12-03</td>\n",
       "      <td>2011-08-31</td>\n",
       "      <td>703.723158</td>\n",
       "      <td>19</td>\n",
       "      <td>271.0</td>\n",
       "      <td>271.0</td>\n",
       "      <td>10</td>\n",
       "      <td>12638.62</td>\n",
       "      <td>574.482727</td>\n",
       "      <td>100</td>\n",
       "    </tr>\n",
       "    <tr>\n",
       "      <th>18097.0</th>\n",
       "      <td>2006.45</td>\n",
       "      <td>2010-12-20</td>\n",
       "      <td>2011-08-31</td>\n",
       "      <td>23.605294</td>\n",
       "      <td>4</td>\n",
       "      <td>254.0</td>\n",
       "      <td>254.0</td>\n",
       "      <td>0</td>\n",
       "      <td>686.40</td>\n",
       "      <td>28.600000</td>\n",
       "      <td>100</td>\n",
       "    </tr>\n",
       "    <tr>\n",
       "      <th>18198.0</th>\n",
       "      <td>4322.49</td>\n",
       "      <td>2011-01-07</td>\n",
       "      <td>2011-08-31</td>\n",
       "      <td>35.142195</td>\n",
       "      <td>16</td>\n",
       "      <td>236.0</td>\n",
       "      <td>236.0</td>\n",
       "      <td>3</td>\n",
       "      <td>760.57</td>\n",
       "      <td>17.687674</td>\n",
       "      <td>100</td>\n",
       "    </tr>\n",
       "    <tr>\n",
       "      <th>18225.0</th>\n",
       "      <td>2594.53</td>\n",
       "      <td>2010-12-03</td>\n",
       "      <td>2011-08-31</td>\n",
       "      <td>15.536108</td>\n",
       "      <td>10</td>\n",
       "      <td>271.0</td>\n",
       "      <td>271.0</td>\n",
       "      <td>5</td>\n",
       "      <td>2766.49</td>\n",
       "      <td>23.247815</td>\n",
       "      <td>100</td>\n",
       "    </tr>\n",
       "  </tbody>\n",
       "</table>\n",
       "<p>67 rows × 11 columns</p>\n",
       "</div>"
      ],
      "text/plain": [
       "            total_value_cal first_within_cal latest_within_cal  \\\n",
       "CustomerID                                                       \n",
       "12381.0             1227.39       2011-08-12        2011-08-31   \n",
       "12423.0             1650.67       2010-12-21        2011-08-31   \n",
       "12477.0             8824.48       2011-02-01        2011-08-31   \n",
       "12484.0             3626.65       2011-01-07        2011-08-31   \n",
       "12490.0             2516.77       2011-01-14        2011-08-31   \n",
       "...                     ...              ...               ...   \n",
       "17865.0             6749.06       2010-12-10        2011-08-31   \n",
       "17949.0            40112.22       2010-12-03        2011-08-31   \n",
       "18097.0             2006.45       2010-12-20        2011-08-31   \n",
       "18198.0             4322.49       2011-01-07        2011-08-31   \n",
       "18225.0             2594.53       2010-12-03        2011-08-31   \n",
       "\n",
       "            monetary_value_cal  frequency_cal  recency_cal  T_cal  \\\n",
       "CustomerID                                                          \n",
       "12381.0              18.596818              1         19.0   19.0   \n",
       "12423.0              15.283981              6        253.0  253.0   \n",
       "12477.0              43.257255              4        211.0  211.0   \n",
       "12484.0              12.725088              4        236.0  236.0   \n",
       "12490.0              20.461545              4        229.0  229.0   \n",
       "...                        ...            ...          ...    ...   \n",
       "17865.0              24.812721             14        264.0  264.0   \n",
       "17949.0             703.723158             19        271.0  271.0   \n",
       "18097.0              23.605294              4        254.0  254.0   \n",
       "18198.0              35.142195             16        236.0  236.0   \n",
       "18225.0              15.536108             10        271.0  271.0   \n",
       "\n",
       "            frequency_holdout  total_value_holdout  monetary_value_holdout  \\\n",
       "CustomerID                                                                   \n",
       "12381.0                     3               576.57               23.062800   \n",
       "12423.0                     1               198.44               11.024444   \n",
       "12477.0                     3              4292.53               41.274327   \n",
       "12484.0                     2               868.62               13.363385   \n",
       "12490.0                     4              2901.16               23.780000   \n",
       "...                       ...                  ...                     ...   \n",
       "17865.0                     6              3409.48               29.140855   \n",
       "17949.0                    10             12638.62              574.482727   \n",
       "18097.0                     0               686.40               28.600000   \n",
       "18198.0                     3               760.57               17.687674   \n",
       "18225.0                     5              2766.49               23.247815   \n",
       "\n",
       "            duration_holdout  \n",
       "CustomerID                    \n",
       "12381.0                  100  \n",
       "12423.0                  100  \n",
       "12477.0                  100  \n",
       "12484.0                  100  \n",
       "12490.0                  100  \n",
       "...                      ...  \n",
       "17865.0                  100  \n",
       "17949.0                  100  \n",
       "18097.0                  100  \n",
       "18198.0                  100  \n",
       "18225.0                  100  \n",
       "\n",
       "[67 rows x 11 columns]"
      ]
     },
     "execution_count": 122,
     "metadata": {},
     "output_type": "execute_result"
    }
   ],
   "source": [
    "# pull up a sample of customers who:\n",
    "# latest_within_cal = 2011-08-31\n",
    "# first_within_cal < 2011-08-31 because our new model will not include customers who joined us on 2011-08-31\n",
    "# monetary_value_cal > 0 \n",
    "\n",
    "latest_order_date = '2011-08-31'\n",
    "\n",
    "sample_1 = cal_hold_df[\n",
    "            (cal_hold_df[\"monetary_value_cal\"] > 0) &\n",
    "            (cal_hold_df[\"latest_within_cal\"] == latest_order_date) &\n",
    "            (cal_hold_df[\"first_within_cal\"] < '2011-08-31')\n",
    "            ]\n",
    "\n",
    "sample_1"
   ]
  },
  {
   "cell_type": "code",
   "execution_count": 120,
   "metadata": {},
   "outputs": [
    {
     "data": {
      "image/png": "[encoded data removed]",
      "text/plain": [
       "<Figure size 864x504 with 1 Axes>"
      ]
     },
     "metadata": {
      "needs_background": "light"
     },
     "output_type": "display_data"
    }
   ],
   "source": [
    "# let's look at the historical probability of being alive of one of these customers\n",
    "\n",
    "id4 = 18225.0\n",
    "days_since_birth_4 = 365\n",
    "sp_trans_4 = tx_keep_date.loc[tx_keep_date['CustomerID'] == id4]\n",
    "\n",
    "pyplot.figure(figsize=(12, 7))\n",
    "plot_history_alive(bgf1, days_since_birth_4, sp_trans_4, 'InvoiceDate')\n",
    "pyplot.show()"
   ]
  },
  {
   "cell_type": "code",
   "execution_count": 48,
   "metadata": {},
   "outputs": [
    {
     "data": {
      "text/html": [
       "<div>\n",
       "<style scoped>\n",
       "    .dataframe tbody tr th:only-of-type {\n",
       "        vertical-align: middle;\n",
       "    }\n",
       "\n",
       "    .dataframe tbody tr th {\n",
       "        vertical-align: top;\n",
       "    }\n",
       "\n",
       "    .dataframe thead th {\n",
       "        text-align: right;\n",
       "    }\n",
       "</style>\n",
       "<table border=\"1\" class=\"dataframe\">\n",
       "  <thead>\n",
       "    <tr style=\"text-align: right;\">\n",
       "      <th></th>\n",
       "      <th>coef</th>\n",
       "      <th>se(coef)</th>\n",
       "      <th>lower 95% bound</th>\n",
       "      <th>upper 95% bound</th>\n",
       "    </tr>\n",
       "  </thead>\n",
       "  <tbody>\n",
       "    <tr>\n",
       "      <th>r</th>\n",
       "      <td>0.731984</td>\n",
       "      <td>0.026620</td>\n",
       "      <td>0.679809</td>\n",
       "      <td>0.784159</td>\n",
       "    </tr>\n",
       "    <tr>\n",
       "      <th>alpha</th>\n",
       "      <td>49.540003</td>\n",
       "      <td>2.261428</td>\n",
       "      <td>45.107604</td>\n",
       "      <td>53.972402</td>\n",
       "    </tr>\n",
       "    <tr>\n",
       "      <th>a</th>\n",
       "      <td>0.024372</td>\n",
       "      <td>0.006753</td>\n",
       "      <td>0.011137</td>\n",
       "      <td>0.037607</td>\n",
       "    </tr>\n",
       "    <tr>\n",
       "      <th>b</th>\n",
       "      <td>0.307937</td>\n",
       "      <td>0.075494</td>\n",
       "      <td>0.159969</td>\n",
       "      <td>0.455905</td>\n",
       "    </tr>\n",
       "  </tbody>\n",
       "</table>\n",
       "</div>"
      ],
      "text/plain": [
       "            coef  se(coef)  lower 95% bound  upper 95% bound\n",
       "r       0.731984  0.026620         0.679809         0.784159\n",
       "alpha  49.540003  2.261428        45.107604        53.972402\n",
       "a       0.024372  0.006753         0.011137         0.037607\n",
       "b       0.307937  0.075494         0.159969         0.455905"
      ]
     },
     "execution_count": 48,
     "metadata": {},
     "output_type": "execute_result"
    }
   ],
   "source": [
    "# The customers made purchases on 2011-8-31 and the probability of being alive bounced back \n",
    "# Let's compare their predicted CLTV on 2011-8-30 and 2011-8-31\n",
    "\n",
    "# IDK IF THIS IS THE RIGHT APPROACH BUT -\n",
    "# Let's fit the bgf model on data from the beginning to 2011-08-30 \n",
    "# The new bgf model will have no information on 2011-8-31\n",
    "\n",
    "end_date_temp = \"2011-08-30\"\n",
    "cal_hold_out_temp = cal_holdout(tx_data, cal_end_date = end_date_temp)\n",
    "\n",
    "bgf_temp = BetaGeoFitter(penalizer_coef=0.01)\n",
    "bgf_temp.fit(cal_hold_out_temp['frequency_cal'], cal_hold_out_temp['recency_cal'], cal_hold_out_temp['T_cal'])\n",
    "bgf_temp.summary"
   ]
  },
  {
   "cell_type": "code",
   "execution_count": 49,
   "metadata": {},
   "outputs": [],
   "source": [
    "# get data ready for gamma gamma model\n",
    "returning_customers_summary_temp = cal_hold_out_temp[['frequency_cal', 'recency_cal', 'T_cal', 'monetary_value_cal']]\n",
    "\n",
    "returning_customers_summary_temp['frequency_cal'] = returning_customers_summary_temp[\n",
    "    returning_customers_summary_temp['frequency_cal']>0]\n",
    "returning_customers_summary_temp['monetary_value_cal'] = returning_customers_summary_temp[\n",
    "    returning_customers_summary_temp['monetary_value_cal']>0]\n",
    "\n",
    "returning_customers_summary_temp = returning_customers_summary_temp.dropna()"
   ]
  },
  {
   "cell_type": "code",
   "execution_count": 51,
   "metadata": {},
   "outputs": [
    {
     "data": {
      "text/plain": [
       "<lifetimes.GammaGammaFitter: fitted with 2078 subjects, p: 4.78, q: 2.10, v: 1.03>"
      ]
     },
     "execution_count": 51,
     "metadata": {},
     "output_type": "execute_result"
    }
   ],
   "source": [
    "# train Gamma-Gamma submodel\n",
    "\n",
    "ggf_temp = GammaGammaFitter(penalizer_coef = 0.0)\n",
    "ggf_temp.fit(returning_customers_summary_temp['frequency_cal'], returning_customers_summary_temp['monetary_value_cal'])\n",
    "ggf_temp"
   ]
  },
  {
   "cell_type": "code",
   "execution_count": 52,
   "metadata": {},
   "outputs": [
    {
     "name": "stderr",
     "output_type": "stream",
     "text": [
      "/opt/anaconda3/lib/python3.8/site-packages/pandas/core/series.py:679: RuntimeWarning: invalid value encountered in log\n",
      "  result = getattr(ufunc, method)(*inputs, **kwargs)\n"
     ]
    }
   ],
   "source": [
    "# CLTV prediction for the next 12 months\n",
    "CLTV_temp = ggf_temp.customer_lifetime_value(bgf_temp, cal_hold_out_temp['frequency_cal'], \n",
    "                                     cal_hold_out_temp['recency_cal'], \n",
    "                                     cal_hold_out_temp['T_cal'], \n",
    "                                     cal_hold_out_temp['monetary_value_cal'], \n",
    "                                     time = 12,  # months\n",
    "                                     discount_rate = 0.01 # monthly discount rate\n",
    "                                    )"
   ]
  },
  {
   "cell_type": "code",
   "execution_count": 124,
   "metadata": {},
   "outputs": [
    {
     "data": {
      "text/html": [
       "<div>\n",
       "<style scoped>\n",
       "    .dataframe tbody tr th:only-of-type {\n",
       "        vertical-align: middle;\n",
       "    }\n",
       "\n",
       "    .dataframe tbody tr th {\n",
       "        vertical-align: top;\n",
       "    }\n",
       "\n",
       "    .dataframe thead th {\n",
       "        text-align: right;\n",
       "    }\n",
       "</style>\n",
       "<table border=\"1\" class=\"dataframe\">\n",
       "  <thead>\n",
       "    <tr style=\"text-align: right;\">\n",
       "      <th></th>\n",
       "      <th>total_value_cal</th>\n",
       "      <th>monetary_value_cal</th>\n",
       "      <th>frequency_cal</th>\n",
       "      <th>recency_cal</th>\n",
       "      <th>T_cal</th>\n",
       "      <th>frequency_holdout</th>\n",
       "      <th>total_value_holdout</th>\n",
       "      <th>monetary_value_holdout</th>\n",
       "      <th>duration_holdout</th>\n",
       "    </tr>\n",
       "  </thead>\n",
       "  <tbody>\n",
       "    <tr>\n",
       "      <th>count</th>\n",
       "      <td>67.000000</td>\n",
       "      <td>67.000000</td>\n",
       "      <td>67.000000</td>\n",
       "      <td>67.000000</td>\n",
       "      <td>67.000000</td>\n",
       "      <td>67.000000</td>\n",
       "      <td>67.000000</td>\n",
       "      <td>67.000000</td>\n",
       "      <td>67.0</td>\n",
       "    </tr>\n",
       "    <tr>\n",
       "      <th>mean</th>\n",
       "      <td>10258.112836</td>\n",
       "      <td>49.975359</td>\n",
       "      <td>11.238806</td>\n",
       "      <td>209.835821</td>\n",
       "      <td>209.835821</td>\n",
       "      <td>4.000000</td>\n",
       "      <td>5885.762537</td>\n",
       "      <td>51.877089</td>\n",
       "      <td>100.0</td>\n",
       "    </tr>\n",
       "    <tr>\n",
       "      <th>std</th>\n",
       "      <td>24343.145455</td>\n",
       "      <td>104.207695</td>\n",
       "      <td>12.030378</td>\n",
       "      <td>77.860325</td>\n",
       "      <td>77.860325</td>\n",
       "      <td>4.552721</td>\n",
       "      <td>17740.606482</td>\n",
       "      <td>112.918011</td>\n",
       "      <td>0.0</td>\n",
       "    </tr>\n",
       "    <tr>\n",
       "      <th>min</th>\n",
       "      <td>64.650000</td>\n",
       "      <td>4.829690</td>\n",
       "      <td>1.000000</td>\n",
       "      <td>5.000000</td>\n",
       "      <td>5.000000</td>\n",
       "      <td>0.000000</td>\n",
       "      <td>0.000000</td>\n",
       "      <td>0.000000</td>\n",
       "      <td>100.0</td>\n",
       "    </tr>\n",
       "    <tr>\n",
       "      <th>25%</th>\n",
       "      <td>1408.200000</td>\n",
       "      <td>16.115094</td>\n",
       "      <td>4.000000</td>\n",
       "      <td>171.500000</td>\n",
       "      <td>171.500000</td>\n",
       "      <td>0.000000</td>\n",
       "      <td>357.905000</td>\n",
       "      <td>12.946067</td>\n",
       "      <td>100.0</td>\n",
       "    </tr>\n",
       "    <tr>\n",
       "      <th>50%</th>\n",
       "      <td>3249.720000</td>\n",
       "      <td>22.125882</td>\n",
       "      <td>7.000000</td>\n",
       "      <td>253.000000</td>\n",
       "      <td>253.000000</td>\n",
       "      <td>3.000000</td>\n",
       "      <td>1332.790000</td>\n",
       "      <td>23.062800</td>\n",
       "      <td>100.0</td>\n",
       "    </tr>\n",
       "    <tr>\n",
       "      <th>75%</th>\n",
       "      <td>8414.580000</td>\n",
       "      <td>33.733598</td>\n",
       "      <td>15.500000</td>\n",
       "      <td>266.000000</td>\n",
       "      <td>266.000000</td>\n",
       "      <td>5.500000</td>\n",
       "      <td>4180.415000</td>\n",
       "      <td>34.776292</td>\n",
       "      <td>100.0</td>\n",
       "    </tr>\n",
       "    <tr>\n",
       "      <th>max</th>\n",
       "      <td>175638.940000</td>\n",
       "      <td>703.723158</td>\n",
       "      <td>61.000000</td>\n",
       "      <td>273.000000</td>\n",
       "      <td>273.000000</td>\n",
       "      <td>20.000000</td>\n",
       "      <td>103850.080000</td>\n",
       "      <td>655.584241</td>\n",
       "      <td>100.0</td>\n",
       "    </tr>\n",
       "  </tbody>\n",
       "</table>\n",
       "</div>"
      ],
      "text/plain": [
       "       total_value_cal  monetary_value_cal  frequency_cal  recency_cal  \\\n",
       "count        67.000000           67.000000      67.000000    67.000000   \n",
       "mean      10258.112836           49.975359      11.238806   209.835821   \n",
       "std       24343.145455          104.207695      12.030378    77.860325   \n",
       "min          64.650000            4.829690       1.000000     5.000000   \n",
       "25%        1408.200000           16.115094       4.000000   171.500000   \n",
       "50%        3249.720000           22.125882       7.000000   253.000000   \n",
       "75%        8414.580000           33.733598      15.500000   266.000000   \n",
       "max      175638.940000          703.723158      61.000000   273.000000   \n",
       "\n",
       "            T_cal  frequency_holdout  total_value_holdout  \\\n",
       "count   67.000000          67.000000            67.000000   \n",
       "mean   209.835821           4.000000          5885.762537   \n",
       "std     77.860325           4.552721         17740.606482   \n",
       "min      5.000000           0.000000             0.000000   \n",
       "25%    171.500000           0.000000           357.905000   \n",
       "50%    253.000000           3.000000          1332.790000   \n",
       "75%    266.000000           5.500000          4180.415000   \n",
       "max    273.000000          20.000000        103850.080000   \n",
       "\n",
       "       monetary_value_holdout  duration_holdout  \n",
       "count               67.000000              67.0  \n",
       "mean                51.877089             100.0  \n",
       "std                112.918011               0.0  \n",
       "min                  0.000000             100.0  \n",
       "25%                 12.946067             100.0  \n",
       "50%                 23.062800             100.0  \n",
       "75%                 34.776292             100.0  \n",
       "max                655.584241             100.0  "
      ]
     },
     "execution_count": 124,
     "metadata": {},
     "output_type": "execute_result"
    }
   ],
   "source": [
    "# max frequency_cal = 67\n",
    "# min frequency_cal = 1\n",
    "\n",
    "sample_1.describe()"
   ]
  },
  {
   "cell_type": "code",
   "execution_count": 301,
   "metadata": {},
   "outputs": [
    {
     "name": "stderr",
     "output_type": "stream",
     "text": [
      "<ipython-input-301-208e64d1c720>:15: RuntimeWarning: invalid value encountered in true_divide\n",
      "  avg_CLTV_increase = avg_CLTV_increase/frequency_count\n"
     ]
    }
   ],
   "source": [
    "# compare predicted CLTV on 2011-8-30 and predicted CLTV on 2011-8-31\n",
    "\n",
    "avg_CLTV_increase = np.zeros(61, dtype = float)\n",
    "frequency_count = np.zeros(61, dtype = int)\n",
    "\n",
    "for i in sample_1.index: \n",
    "    CLTV_before_purchase = round(CLTV_temp.loc[i], 2)\n",
    "    CLTV_after_purchase = round(CLTV_1.loc[i], 2)\n",
    "    percentage_change = (CLTV_after_purchase - CLTV_before_purchase)/CLTV_before_purchase\n",
    "    \n",
    "    f = int(sample_1.loc[i]['frequency_cal'])\n",
    "    frequency_count[f-1] += 1\n",
    "    avg_CLTV_increase[f-1] += percentage_change\n",
    "\n",
    "avg_CLTV_increase = avg_CLTV_increase/frequency_count\n"
   ]
  },
  {
   "cell_type": "code",
   "execution_count": 313,
   "metadata": {},
   "outputs": [
    {
     "data": {
      "text/html": [
       "<div>\n",
       "<style scoped>\n",
       "    .dataframe tbody tr th:only-of-type {\n",
       "        vertical-align: middle;\n",
       "    }\n",
       "\n",
       "    .dataframe tbody tr th {\n",
       "        vertical-align: top;\n",
       "    }\n",
       "\n",
       "    .dataframe thead th {\n",
       "        text-align: right;\n",
       "    }\n",
       "</style>\n",
       "<table border=\"1\" class=\"dataframe\">\n",
       "  <thead>\n",
       "    <tr style=\"text-align: right;\">\n",
       "      <th></th>\n",
       "      <th>frequency_cal</th>\n",
       "      <th>avg CLTV increase(%)</th>\n",
       "      <th>count</th>\n",
       "    </tr>\n",
       "  </thead>\n",
       "  <tbody>\n",
       "    <tr>\n",
       "      <th>0</th>\n",
       "      <td>1</td>\n",
       "      <td>NaN</td>\n",
       "      <td>10</td>\n",
       "    </tr>\n",
       "    <tr>\n",
       "      <th>1</th>\n",
       "      <td>2</td>\n",
       "      <td>103.857926</td>\n",
       "      <td>5</td>\n",
       "    </tr>\n",
       "    <tr>\n",
       "      <th>2</th>\n",
       "      <td>3</td>\n",
       "      <td>123.919510</td>\n",
       "      <td>1</td>\n",
       "    </tr>\n",
       "    <tr>\n",
       "      <th>3</th>\n",
       "      <td>4</td>\n",
       "      <td>50.920357</td>\n",
       "      <td>9</td>\n",
       "    </tr>\n",
       "    <tr>\n",
       "      <th>4</th>\n",
       "      <td>5</td>\n",
       "      <td>25.784189</td>\n",
       "      <td>2</td>\n",
       "    </tr>\n",
       "    <tr>\n",
       "      <th>5</th>\n",
       "      <td>6</td>\n",
       "      <td>32.424631</td>\n",
       "      <td>6</td>\n",
       "    </tr>\n",
       "    <tr>\n",
       "      <th>6</th>\n",
       "      <td>7</td>\n",
       "      <td>25.261627</td>\n",
       "      <td>2</td>\n",
       "    </tr>\n",
       "    <tr>\n",
       "      <th>7</th>\n",
       "      <td>8</td>\n",
       "      <td>22.523295</td>\n",
       "      <td>3</td>\n",
       "    </tr>\n",
       "    <tr>\n",
       "      <th>8</th>\n",
       "      <td>9</td>\n",
       "      <td>0.549367</td>\n",
       "      <td>3</td>\n",
       "    </tr>\n",
       "    <tr>\n",
       "      <th>9</th>\n",
       "      <td>10</td>\n",
       "      <td>15.527060</td>\n",
       "      <td>2</td>\n",
       "    </tr>\n",
       "  </tbody>\n",
       "</table>\n",
       "</div>"
      ],
      "text/plain": [
       "   frequency_cal  avg CLTV increase(%)  count\n",
       "0              1                   NaN     10\n",
       "1              2            103.857926      5\n",
       "2              3            123.919510      1\n",
       "3              4             50.920357      9\n",
       "4              5             25.784189      2\n",
       "5              6             32.424631      6\n",
       "6              7             25.261627      2\n",
       "7              8             22.523295      3\n",
       "8              9              0.549367      3\n",
       "9             10             15.527060      2"
      ]
     },
     "execution_count": 313,
     "metadata": {},
     "output_type": "execute_result"
    }
   ],
   "source": [
    "# print outcome\n",
    "\n",
    "CLTV_increase_frequency = {'frequency_cal' : [i for i in range(1, 62)], 'avg CLTV increase(%)': avg_CLTV_increase*100, 'count': frequency_count}\n",
    "CLTV_increase_frequency_df = pd.DataFrame(data=CLTV_increase_frequency)\n",
    "CLTV_increase_frequency_df.head(10)"
   ]
  },
  {
   "cell_type": "code",
   "execution_count": 365,
   "metadata": {},
   "outputs": [
    {
     "data": {
      "image/png": "[encoded data removed]",
      "text/plain": [
       "<Figure size 720x288 with 1 Axes>"
      ]
     },
     "metadata": {
      "needs_background": "light"
     },
     "output_type": "display_data"
    }
   ],
   "source": [
    "# plot average increase in CLTV for each frequency level\n",
    "\n",
    "pyplot.figure(figsize=(10, 4))\n",
    "pyplot.bar(range(1, 62), (avg_CLTV_increase*100))\n",
    "pyplot.xlabel('Frequency in calibration period')\n",
    "pyplot.ylabel('Average increase in CLTV prediction(%)')\n",
    "pyplot.title('Average percantage change in CLTV prediction group by repeat purchases in calibration period')\n",
    "pyplot.show()"
   ]
  },
  {
   "cell_type": "code",
   "execution_count": 366,
   "metadata": {},
   "outputs": [
    {
     "data": {
      "text/plain": [
       "<BarContainer object of 61 artists>"
      ]
     },
     "execution_count": 366,
     "metadata": {},
     "output_type": "execute_result"
    },
    {
     "data": {
      "image/png": "[encoded data removed]",
      "text/plain": [
       "<Figure size 720x288 with 1 Axes>"
      ]
     },
     "metadata": {
      "needs_background": "light"
     },
     "output_type": "display_data"
    }
   ],
   "source": [
    "# plot frequency count\n",
    "# this explains the gaps in the graph above - we don't have customer in all the frequency levels\n",
    "# shortcoming: small sample size; for many frequency levels, we only have 1 customer\n",
    "\n",
    "pyplot.figure(figsize=(10, 4))\n",
    "pyplot.xlabel('Frequency in calibration period')\n",
    "pyplot.ylabel('Number of customers')\n",
    "pyplot.title('Number of customers group by repeat purchases in calibration period')\n",
    "pyplot.bar(range(1, 62), frequency_count)"
   ]
  },
  {
   "cell_type": "code",
   "execution_count": 367,
   "metadata": {},
   "outputs": [
    {
     "data": {
      "image/png": "[encoded data removed]",
      "text/plain": [
       "<Figure size 720x288 with 1 Axes>"
      ]
     },
     "metadata": {
      "needs_background": "light"
     },
     "output_type": "display_data"
    }
   ],
   "source": [
    "# zoom in to see the first 75%\n",
    "pyplot.figure(figsize=(10, 4))\n",
    "pyplot.bar(range(1, 17), (avg_CLTV_increase*100)[0:16])\n",
    "\n",
    "xlocs = [i for i in range(1, 17)]\n",
    "\n",
    "pyplot.xlabel('Frequency in calibration period')\n",
    "pyplot.ylabel('Average Increase in CLTV prediction(%)')\n",
    "pyplot.title('Average percantage change in CLTV prediction group by repeat purchases in calibration period')\n",
    "pyplot.show()\n"
   ]
  },
  {
   "cell_type": "code",
   "execution_count": 157,
   "metadata": {},
   "outputs": [
    {
     "data": {
      "text/html": [
       "<div>\n",
       "<style scoped>\n",
       "    .dataframe tbody tr th:only-of-type {\n",
       "        vertical-align: middle;\n",
       "    }\n",
       "\n",
       "    .dataframe tbody tr th {\n",
       "        vertical-align: top;\n",
       "    }\n",
       "\n",
       "    .dataframe thead th {\n",
       "        text-align: right;\n",
       "    }\n",
       "</style>\n",
       "<table border=\"1\" class=\"dataframe\">\n",
       "  <thead>\n",
       "    <tr style=\"text-align: right;\">\n",
       "      <th></th>\n",
       "      <th>total_value_cal</th>\n",
       "      <th>first_within_cal</th>\n",
       "      <th>latest_within_cal</th>\n",
       "      <th>monetary_value_cal</th>\n",
       "      <th>frequency_cal</th>\n",
       "      <th>recency_cal</th>\n",
       "      <th>T_cal</th>\n",
       "      <th>frequency_holdout</th>\n",
       "      <th>total_value_holdout</th>\n",
       "      <th>monetary_value_holdout</th>\n",
       "      <th>duration_holdout</th>\n",
       "    </tr>\n",
       "    <tr>\n",
       "      <th>CustomerID</th>\n",
       "      <th></th>\n",
       "      <th></th>\n",
       "      <th></th>\n",
       "      <th></th>\n",
       "      <th></th>\n",
       "      <th></th>\n",
       "      <th></th>\n",
       "      <th></th>\n",
       "      <th></th>\n",
       "      <th></th>\n",
       "      <th></th>\n",
       "    </tr>\n",
       "  </thead>\n",
       "  <tbody>\n",
       "    <tr>\n",
       "      <th>15856.0</th>\n",
       "      <td>10019.4</td>\n",
       "      <td>2010-12-09</td>\n",
       "      <td>2011-08-31</td>\n",
       "      <td>23.246868</td>\n",
       "      <td>13</td>\n",
       "      <td>265.0</td>\n",
       "      <td>265.0</td>\n",
       "      <td>6</td>\n",
       "      <td>6154.27</td>\n",
       "      <td>27.721937</td>\n",
       "      <td>100</td>\n",
       "    </tr>\n",
       "  </tbody>\n",
       "</table>\n",
       "</div>"
      ],
      "text/plain": [
       "            total_value_cal first_within_cal latest_within_cal  \\\n",
       "CustomerID                                                       \n",
       "15856.0             10019.4       2010-12-09        2011-08-31   \n",
       "\n",
       "            monetary_value_cal  frequency_cal  recency_cal  T_cal  \\\n",
       "CustomerID                                                          \n",
       "15856.0              23.246868             13        265.0  265.0   \n",
       "\n",
       "            frequency_holdout  total_value_holdout  monetary_value_holdout  \\\n",
       "CustomerID                                                                   \n",
       "15856.0                     6              6154.27               27.721937   \n",
       "\n",
       "            duration_holdout  \n",
       "CustomerID                    \n",
       "15856.0                  100  "
      ]
     },
     "execution_count": 157,
     "metadata": {},
     "output_type": "execute_result"
    }
   ],
   "source": [
    "# we notice that when frequency = 13, the increase is actually negative - might need to explain why?\n",
    "# there is only 1 customer that falls into this bin\n",
    "\n",
    "cal_hold_df[(cal_hold_df[\"frequency_cal\"] == 13) &\n",
    "            (cal_hold_df[\"monetary_value_cal\"] > 0) &\n",
    "            (cal_hold_df[\"latest_within_cal\"] == latest_order_date) &\n",
    "            (cal_hold_df[\"first_within_cal\"] < '2011-08-31')\n",
    "            ]"
   ]
  },
  {
   "cell_type": "code",
   "execution_count": 171,
   "metadata": {},
   "outputs": [
    {
     "data": {
      "image/png": "[encoded data removed]",
      "text/plain": [
       "<Figure size 864x504 with 1 Axes>"
      ]
     },
     "metadata": {
      "needs_background": "light"
     },
     "output_type": "display_data"
    }
   ],
   "source": [
    "# let's look at the historical p_alive of this customer 15856.0\n",
    "\n",
    "days_since_birth_5 = 365\n",
    "sp_trans_5 = tx_keep_date.loc[tx_keep_date['CustomerID'] == 15856.0]\n",
    "\n",
    "pyplot.figure(figsize=(12, 7))\n",
    "plot_history_alive(bgf1, days_since_birth_5, sp_trans_5, 'InvoiceDate')\n",
    "pyplot.show()"
   ]
  },
  {
   "cell_type": "code",
   "execution_count": null,
   "metadata": {},
   "outputs": [],
   "source": []
  },
  {
   "cell_type": "code",
   "execution_count": null,
   "metadata": {},
   "outputs": [],
   "source": []
  },
  {
   "cell_type": "code",
   "execution_count": null,
   "metadata": {},
   "outputs": [],
   "source": []
  }
 ],
 "metadata": {
  "kernelspec": {
   "display_name": "Python 3",
   "language": "python",
   "name": "python3"
  },
  "language_info": {
   "codemirror_mode": {
    "name": "ipython",
    "version": 3
   },
   "file_extension": ".py",
   "mimetype": "text/x-python",
   "name": "python",
   "nbconvert_exporter": "python",
   "pygments_lexer": "ipython3",
   "version": "3.8.3"
  }
 },
 "nbformat": 4,
 "nbformat_minor": 2
}
